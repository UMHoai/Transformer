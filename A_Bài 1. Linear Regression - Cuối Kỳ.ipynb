{
 "cells": [
  {
   "cell_type": "markdown",
   "id": "ba0edc00",
   "metadata": {},
   "source": [
    "# <p style=\"background-color:skyblue; font-family:newtimeroman; font-size:250%; text-align:center; border-radius: 15px 50px;\">Học máy và ứng dụng 📝</p>"
   ]
  },
  {
   "cell_type": "markdown",
   "id": "8c1d139e",
   "metadata": {},
   "source": [
    "<p style=\"text-align:center\">\n",
    "    <a href=\"https://github.com/ITHealer?tab=repositories\" target=\"_blank\">\n",
    "    <img src=\"avatar_healer.jpg\" width=\"200\" alt=\"Logo link github\"  />\n",
    "    </a>\n",
    "    <b>4251050044 - Ung Minh Hoài</b> <br>\n",
    "</p>"
   ]
  },
  {
   "cell_type": "markdown",
   "id": "2179f95d",
   "metadata": {},
   "source": [
    "## 1. Import library"
   ]
  },
  {
   "cell_type": "code",
   "execution_count": 2,
   "id": "82376117",
   "metadata": {},
   "outputs": [],
   "source": [
    "import numpy as np\n",
    "import pandas as pd\n",
    "from sklearn import datasets\n",
    "import matplotlib.pylab as plt\n",
    "from sklearn.linear_model import LinearRegression\n",
    "%matplotlib inline"
   ]
  },
  {
   "cell_type": "markdown",
   "id": "e72ece71",
   "metadata": {},
   "source": [
    "## 2. Prepare data "
   ]
  },
  {
   "cell_type": "code",
   "execution_count": 4,
   "id": "68ecb61a",
   "metadata": {},
   "outputs": [],
   "source": [
    "# from sklearn import datasets\n",
    "# iris = datasets.load_iris()\n",
    "# X_iris = iris.data\n",
    "# y_iris = iris.target"
   ]
  },
  {
   "cell_type": "code",
   "execution_count": null,
   "id": "633951ef",
   "metadata": {},
   "outputs": [],
   "source": []
  },
  {
   "cell_type": "markdown",
   "id": "f6ac9151",
   "metadata": {},
   "source": [
    "## 3. Split train/test"
   ]
  },
  {
   "cell_type": "code",
   "execution_count": null,
   "id": "8f63c8db",
   "metadata": {},
   "outputs": [],
   "source": [
    "from sklearn.model_selection import train_test_split\n",
    "X_train, X_test, y_train, y_test = train_test_split(X, y, test_size=0.33, random_state=0)"
   ]
  },
  {
   "cell_type": "code",
   "execution_count": null,
   "id": "b4bdf931",
   "metadata": {},
   "outputs": [],
   "source": [
    "X_train.shape, X_test.shape"
   ]
  },
  {
   "cell_type": "code",
   "execution_count": null,
   "id": "9ad468ec",
   "metadata": {},
   "outputs": [],
   "source": [
    "y_train.shape, y_test.shape"
   ]
  },
  {
   "cell_type": "markdown",
   "id": "e3f50542",
   "metadata": {},
   "source": [
    "## 3. Build model"
   ]
  },
  {
   "cell_type": "code",
   "execution_count": null,
   "id": "11832e0a",
   "metadata": {},
   "outputs": [],
   "source": [
    "# 1. Xây dựng mô hình\n",
    "model = LinearRegression()\n",
    "# 2. Fit\n",
    "model.fit(X_train, y_train)\n",
    "# 3. Độ chính xác\n",
    "model.score(X_test, y_test)"
   ]
  },
  {
   "cell_type": "code",
   "execution_count": null,
   "id": "51a61f0a",
   "metadata": {},
   "outputs": [],
   "source": [
    "model.coef_ # beta"
   ]
  },
  {
   "cell_type": "code",
   "execution_count": null,
   "id": "60df2525",
   "metadata": {},
   "outputs": [],
   "source": [
    "model.intercept_ # c"
   ]
  },
  {
   "cell_type": "code",
   "execution_count": null,
   "id": "5db8cc1e",
   "metadata": {},
   "outputs": [],
   "source": [
    "y_pred = model.predict(X_test) \n",
    "y_pred"
   ]
  },
  {
   "cell_type": "markdown",
   "id": "3bbe608c",
   "metadata": {},
   "source": [
    "## 4. Visualization"
   ]
  },
  {
   "cell_type": "code",
   "execution_count": null,
   "id": "1a49f92a",
   "metadata": {},
   "outputs": [],
   "source": [
    "# plot prediction and actual data\n",
    "y_pred = model.predict(X_test) \n",
    "plt.plot(y_test, y_pred, '.')\n",
    "\n",
    "# plot a line, a perfit predict would all fall on this line\n",
    "x = np.linspace(0, 330, 100)\n",
    "y = x\n",
    "plt.plot(x, y)\n",
    "plt.show()"
   ]
  },
  {
   "cell_type": "code",
   "execution_count": 3,
   "id": "e8c7f485",
   "metadata": {},
   "outputs": [],
   "source": [
    "# result = pd.DataFrame({'Actual': y_test, 'Predict' : y_pred})\n",
    "# result"
   ]
  },
  {
   "cell_type": "markdown",
   "id": "2b89824d",
   "metadata": {},
   "source": [
    "## END"
   ]
  }
 ],
 "metadata": {
  "kernelspec": {
   "display_name": "Python 3 (ipykernel)",
   "language": "python",
   "name": "python3"
  },
  "language_info": {
   "codemirror_mode": {
    "name": "ipython",
    "version": 3
   },
   "file_extension": ".py",
   "mimetype": "text/x-python",
   "name": "python",
   "nbconvert_exporter": "python",
   "pygments_lexer": "ipython3",
   "version": "3.9.12"
  }
 },
 "nbformat": 4,
 "nbformat_minor": 5
}
