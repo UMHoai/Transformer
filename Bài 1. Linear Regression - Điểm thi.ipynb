{
 "cells": [
  {
   "cell_type": "code",
   "execution_count": 53,
   "id": "bb19d514",
   "metadata": {},
   "outputs": [
    {
     "data": {
      "text/html": [
       "<div>\n",
       "<style scoped>\n",
       "    .dataframe tbody tr th:only-of-type {\n",
       "        vertical-align: middle;\n",
       "    }\n",
       "\n",
       "    .dataframe tbody tr th {\n",
       "        vertical-align: top;\n",
       "    }\n",
       "\n",
       "    .dataframe thead th {\n",
       "        text-align: right;\n",
       "    }\n",
       "</style>\n",
       "<table border=\"1\" class=\"dataframe\">\n",
       "  <thead>\n",
       "    <tr style=\"text-align: right;\">\n",
       "      <th></th>\n",
       "      <th>STT</th>\n",
       "      <th>TenHS</th>\n",
       "      <th>Toan12</th>\n",
       "      <th>Van12</th>\n",
       "      <th>Anh12</th>\n",
       "      <th>Thi</th>\n",
       "    </tr>\n",
       "  </thead>\n",
       "  <tbody>\n",
       "    <tr>\n",
       "      <th>0</th>\n",
       "      <td>1</td>\n",
       "      <td>?oàn Th? Kim Anh</td>\n",
       "      <td>6.4</td>\n",
       "      <td>7.6</td>\n",
       "      <td>9.3</td>\n",
       "      <td>21.6</td>\n",
       "    </tr>\n",
       "    <tr>\n",
       "      <th>1</th>\n",
       "      <td>2</td>\n",
       "      <td>Tr?n ?ình Qu?c B?o</td>\n",
       "      <td>8.3</td>\n",
       "      <td>7.0</td>\n",
       "      <td>5.2</td>\n",
       "      <td>21.9</td>\n",
       "    </tr>\n",
       "    <tr>\n",
       "      <th>2</th>\n",
       "      <td>3</td>\n",
       "      <td>Tr?n Ng?c Phú C??ng</td>\n",
       "      <td>5.2</td>\n",
       "      <td>7.3</td>\n",
       "      <td>6.5</td>\n",
       "      <td>20.4</td>\n",
       "    </tr>\n",
       "    <tr>\n",
       "      <th>3</th>\n",
       "      <td>4</td>\n",
       "      <td>Lê Th? Huy?n Di?u</td>\n",
       "      <td>7.0</td>\n",
       "      <td>7.8</td>\n",
       "      <td>7.0</td>\n",
       "      <td>22.5</td>\n",
       "    </tr>\n",
       "    <tr>\n",
       "      <th>4</th>\n",
       "      <td>5</td>\n",
       "      <td>Nguy?n Th? M? Dung</td>\n",
       "      <td>6.5</td>\n",
       "      <td>7.4</td>\n",
       "      <td>8.1</td>\n",
       "      <td>21.6</td>\n",
       "    </tr>\n",
       "  </tbody>\n",
       "</table>\n",
       "</div>"
      ],
      "text/plain": [
       "   STT                TenHS  Toan12  Van12  Anh12   Thi\n",
       "0    1     ?oàn Th? Kim Anh     6.4    7.6    9.3  21.6\n",
       "1    2   Tr?n ?ình Qu?c B?o     8.3    7.0    5.2  21.9\n",
       "2    3  Tr?n Ng?c Phú C??ng     5.2    7.3    6.5  20.4\n",
       "3    4    Lê Th? Huy?n Di?u     7.0    7.8    7.0  22.5\n",
       "4    5   Nguy?n Th? M? Dung     6.5    7.4    8.1  21.6"
      ]
     },
     "execution_count": 53,
     "metadata": {},
     "output_type": "execute_result"
    }
   ],
   "source": [
    "import numpy as np\n",
    "import pandas as pd\n",
    "import matplotlib.pyplot as plt\n",
    "from sklearn.linear_model import LinearRegression\n",
    "\n",
    "data = pd.read_csv('dataset/diemHS21.csv', encoding='ISO-8859-1')\n",
    "data.head()"
   ]
  },
  {
   "cell_type": "code",
   "execution_count": 66,
   "id": "83f2665d",
   "metadata": {},
   "outputs": [],
   "source": [
    "X = data[['Toan12','Van12','Anh12']]\n",
    "y = data['Thi']"
   ]
  },
  {
   "cell_type": "code",
   "execution_count": 67,
   "id": "825f8e5b",
   "metadata": {},
   "outputs": [
    {
     "data": {
      "text/plain": [
       "((43, 3), (43,))"
      ]
     },
     "execution_count": 67,
     "metadata": {},
     "output_type": "execute_result"
    }
   ],
   "source": [
    "X.shape, y.shape"
   ]
  },
  {
   "cell_type": "code",
   "execution_count": 68,
   "id": "f434f077",
   "metadata": {},
   "outputs": [
    {
     "data": {
      "text/plain": [
       "LinearRegression()"
      ]
     },
     "execution_count": 68,
     "metadata": {},
     "output_type": "execute_result"
    }
   ],
   "source": [
    "model = LinearRegression(fit_intercept=True)\n",
    "model.fit(X,y)"
   ]
  },
  {
   "cell_type": "code",
   "execution_count": 69,
   "id": "a6a2d596",
   "metadata": {},
   "outputs": [
    {
     "name": "stdout",
     "output_type": "stream",
     "text": [
      "[22.10315286 21.85769077 20.02333899 22.0179402  21.64688812]\n",
      "0    21.6\n",
      "1    21.9\n",
      "2    20.4\n",
      "3    22.5\n",
      "4    21.6\n",
      "Name: Thi, dtype: float64\n"
     ]
    }
   ],
   "source": [
    "print(model.predict(X.head(5)))\n",
    "print(y.head(5))"
   ]
  },
  {
   "cell_type": "code",
   "execution_count": 70,
   "id": "39bfc62e",
   "metadata": {},
   "outputs": [
    {
     "name": "stdout",
     "output_type": "stream",
     "text": [
      "[0.80045737 0.79275658 0.3147993 ]\n",
      "8.0276421869863\n"
     ]
    }
   ],
   "source": [
    "print(model.coef_)\n",
    "print(model.intercept_)"
   ]
  },
  {
   "cell_type": "code",
   "execution_count": 71,
   "id": "49436a4d",
   "metadata": {},
   "outputs": [
    {
     "name": "stdout",
     "output_type": "stream",
     "text": [
      "0.8004573679545363 0.7927565783512618 0.3147993033016374\n",
      "22.10315285807015\n"
     ]
    }
   ],
   "source": [
    "w = model.coef_\n",
    "b = model.intercept_\n",
    "\n",
    "print(w[0],w[1],w[2])\n",
    "print(sum(w*X.T[0])+b)"
   ]
  },
  {
   "cell_type": "code",
   "execution_count": 72,
   "id": "890ec319",
   "metadata": {},
   "outputs": [
    {
     "data": {
      "image/png": "[encoded data removed]",
      "text/plain": [
       "<Figure size 432x288 with 1 Axes>"
      ]
     },
     "metadata": {
      "needs_background": "light"
     },
     "output_type": "display_data"
    }
   ],
   "source": [
    "# plot prediction and actual data\n",
    "y_pred = model.predict(X) \n",
    "plt.plot(y, y_pred, '.')\n",
    "\n",
    "# plot a line, a perfit predict would all fall on this line\n",
    "x = np.linspace(0, 43, 43)\n",
    "y = x\n",
    "plt.plot(x, y)\n",
    "plt.show()"
   ]
  },
  {
   "cell_type": "code",
   "execution_count": 61,
   "id": "2ed1bd86",
   "metadata": {},
   "outputs": [
    {
     "data": {
      "text/plain": [
       "(43,)"
      ]
     },
     "execution_count": 61,
     "metadata": {},
     "output_type": "execute_result"
    }
   ],
   "source": [
    "y_pred.shape"
   ]
  },
  {
   "cell_type": "code",
   "execution_count": 62,
   "id": "5b2cd8d3",
   "metadata": {},
   "outputs": [
    {
     "data": {
      "text/plain": [
       "(43,)"
      ]
     },
     "execution_count": 62,
     "metadata": {},
     "output_type": "execute_result"
    }
   ],
   "source": [
    "y.shape"
   ]
  },
  {
   "cell_type": "code",
   "execution_count": 64,
   "id": "098433d8",
   "metadata": {},
   "outputs": [
    {
     "data": {
      "image/png": "[encoded data removed]",
      "text/plain": [
       "<Figure size 432x288 with 1 Axes>"
      ]
     },
     "metadata": {
      "needs_background": "light"
     },
     "output_type": "display_data"
    }
   ],
   "source": [
    "# plot prediction and actual data\n",
    "y_pred = model.predict(X) \n",
    "plt.plot(y, y_pred, '.')\n",
    "\n",
    "# plot a line, a perfit predict would all fall on this line\n",
    "x = np.linspace(0, 43, 43)\n",
    "y = x\n",
    "plt.plot(x, y)\n",
    "plt.show()"
   ]
  },
  {
   "cell_type": "markdown",
   "id": "bafe115f",
   "metadata": {},
   "source": [
    "## END"
   ]
  },
  {
   "cell_type": "markdown",
   "id": "3e7e8121",
   "metadata": {},
   "source": [
    "### 1. Import library"
   ]
  },
  {
   "cell_type": "code",
   "execution_count": 5,
   "id": "924f60cd",
   "metadata": {},
   "outputs": [],
   "source": [
    "import numpy as np \n",
    "import matplotlib.pyplot as plt"
   ]
  },
  {
   "cell_type": "markdown",
   "id": "95e4fafa",
   "metadata": {},
   "source": [
    "### 2. Data"
   ]
  },
  {
   "cell_type": "code",
   "execution_count": 21,
   "id": "f3d0d5bb",
   "metadata": {},
   "outputs": [],
   "source": [
    "# height (cm), T là chuyển vị \n",
    "np.random.seed(2)\n",
    "\n",
    "X = np.array([[147, 150, 153, 158, 163, 165, 168, 170, 173, 175, 178, 180, 183]]).T\n",
    "# weight (kg)\n",
    "y = np.array([[50, 50, 51, 54, 58, 59, 60, 62, 63, 64, 66, 67, 68]]).T"
   ]
  },
  {
   "cell_type": "markdown",
   "id": "19ec2f02",
   "metadata": {},
   "source": [
    "### 3. Create bar matrix"
   ]
  },
  {
   "cell_type": "code",
   "execution_count": null,
   "id": "f2a2204c",
   "metadata": {},
   "outputs": [],
   "source": [
    "# sinh ra các số toàn là số 1. Mảng 2 chiều = số phần tử trong X. X.shape[0] số dòng\n",
    "one = np.ones((X.shape[0], 1))\n",
    "# X ngang nối số 1 . nối 2 mảng . 1 để nhân với hệ số tự do \n",
    "Xbar = np.concatenate((one, X), axis = 1)"
   ]
  },
  {
   "cell_type": "code",
   "execution_count": 7,
   "id": "704191ca",
   "metadata": {},
   "outputs": [
    {
     "name": "stdout",
     "output_type": "stream",
     "text": [
      "w =  [[-31.68832817]\n",
      " [  0.54736397]]\n"
     ]
    }
   ],
   "source": [
    "# Calculating weights of the fitting line, dot là nhân ma trận\n",
    "A = np.dot(Xbar.T, Xbar)  # tính ra được X ngang với b. X ngang chấm T nhân với X ngang . A là một matrix 2x2\n",
    "b = np.dot(Xbar.T, y)\n",
    "Acong = np.linalg.pinv(A) # hàm tính ma trận nghịch đảo. MA TRẬN GIẢ NGHỊCH ĐẢO CỦA MA TRẬN A. .INV LÀ MA TRẬN NGHỊCH ĐẢO . pINV MÀ TRẬN GIẢ NGHỊCH ĐẢO. cHỈ CÓ MA TRẬN VUÔNG MƯỚI CÓA MA TRẬN NGHỊCH ĐẢO \n",
    "w = np.dot(Acong, b)\n",
    "print(\"w = \", w)\n",
    "\n",
    "# MA trận đơn vị đường chéo chính = 1"
   ]
  },
  {
   "cell_type": "code",
   "execution_count": null,
   "id": "e31ff429",
   "metadata": {},
   "outputs": [],
   "source": [
    "# pt đt y = ax2 + b \n"
   ]
  },
  {
   "cell_type": "code",
   "execution_count": 9,
   "id": "a58e0b42",
   "metadata": {},
   "outputs": [
    {
     "data": {
      "text/plain": [
       "array([[ 1.00000000e+00,  2.18278728e-11],\n",
       "       [-8.85957974e-14,  1.00000000e+00]])"
      ]
     },
     "execution_count": 9,
     "metadata": {},
     "output_type": "execute_result"
    }
   ],
   "source": [
    "# ví dụ\n",
    "I = np.dot(Acong, A)\n",
    "I\n",
    "\n",
    "# lấy ma trận đơn vị nhân với b = w\n",
    "# e-11 = 0.00000000000"
   ]
  },
  {
   "cell_type": "code",
   "execution_count": 10,
   "id": "8699a231",
   "metadata": {},
   "outputs": [],
   "source": [
    "\n",
    "# Pre\n",
    "w_0 = w[0][0]\n",
    "w_1 = w[1][0]\n"
   ]
  },
  {
   "cell_type": "code",
   "execution_count": 11,
   "id": "d25f2982",
   "metadata": {},
   "outputs": [
    {
     "data": {
      "text/plain": [
       "[<matplotlib.lines.Line2D at 0x23662ec20d0>]"
      ]
     },
     "execution_count": 11,
     "metadata": {},
     "output_type": "execute_result"
    },
    {
     "data": {
      "image/png": "[encoded data removed]",
      "text/plain": [
       "<Figure size 432x288 with 1 Axes>"
      ]
     },
     "metadata": {
      "needs_background": "light"
     },
     "output_type": "display_data"
    }
   ],
   "source": [
    "x0 = np.linspace(147, 183, 5, endpoint=True)\n",
    "y0 = w_0 + w_1*x0\n",
    "\n",
    "#\n",
    "plt.plot(X.T, y.T, 'ro')\n",
    "plt.plot(x0, y0)"
   ]
  },
  {
   "cell_type": "code",
   "execution_count": null,
   "id": "2b9a22b8",
   "metadata": {},
   "outputs": [],
   "source": []
  },
  {
   "cell_type": "code",
   "execution_count": 15,
   "id": "748fe55f",
   "metadata": {},
   "outputs": [
    {
     "name": "stdout",
     "output_type": "stream",
     "text": [
      "[[0.         0.54736397]] [-31.68832816]\n"
     ]
    }
   ],
   "source": [
    "from sklearn.linear_model import LinearRegression \n",
    "model = LinearRegression()\n",
    "model.fit(Xbar, y)\n",
    "print(model.coef_, model.intercept_)"
   ]
  },
  {
   "cell_type": "code",
   "execution_count": null,
   "id": "14aac10b",
   "metadata": {},
   "outputs": [],
   "source": []
  }
 ],
 "metadata": {
  "kernelspec": {
   "display_name": "Python 3 (ipykernel)",
   "language": "python",
   "name": "python3"
  },
  "language_info": {
   "codemirror_mode": {
    "name": "ipython",
    "version": 3
   },
   "file_extension": ".py",
   "mimetype": "text/x-python",
   "name": "python",
   "nbconvert_exporter": "python",
   "pygments_lexer": "ipython3",
   "version": "3.9.12"
  }
 },
 "nbformat": 4,
 "nbformat_minor": 5
}
