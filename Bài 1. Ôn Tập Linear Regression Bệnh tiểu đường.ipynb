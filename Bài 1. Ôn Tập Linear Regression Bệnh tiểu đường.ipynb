{
 "cells": [
  {
   "cell_type": "markdown",
   "id": "8c37c5c3",
   "metadata": {},
   "source": [
    "## 1. Import library"
   ]
  },
  {
   "cell_type": "code",
   "execution_count": 34,
   "id": "adc80354",
   "metadata": {},
   "outputs": [],
   "source": [
    "import numpy as np\n",
    "import pandas as pd\n",
    "from sklearn import datasets\n",
    "import matplotlib.pylab as plt\n",
    "from sklearn.linear_model import LinearRegression\n",
    "%matplotlib inline"
   ]
  },
  {
   "cell_type": "markdown",
   "id": "302efadf",
   "metadata": {},
   "source": [
    "## 2. Prepare data "
   ]
  },
  {
   "cell_type": "markdown",
   "id": "2ec338aa",
   "metadata": {},
   "source": [
    "* 10 tính năng: age, sex, body mass index, average blood pressure, and six blood serum measurements (tuổi, giới tính, chỉ số khối cơ thể, huyết áp trung bình và sáu phép đo huyết thanh ) đã thu được cho mỗi n = 442 bệnh nhân tiểu đường, cũng như phản ứng quan tâm, một thước đo định lượng về sự tiến triển của bệnh một năm sau khi bắt đầu."
   ]
  },
  {
   "cell_type": "markdown",
   "id": "dbf6e151",
   "metadata": {},
   "source": [
    "### 2.1 Load data"
   ]
  },
  {
   "cell_type": "code",
   "execution_count": 2,
   "id": "fc731aef",
   "metadata": {},
   "outputs": [],
   "source": [
    "diabetes = datasets.load_diabetes()"
   ]
  },
  {
   "cell_type": "code",
   "execution_count": 5,
   "id": "414c043e",
   "metadata": {},
   "outputs": [
    {
     "data": {
      "text/plain": [
       "(442, 10)"
      ]
     },
     "execution_count": 5,
     "metadata": {},
     "output_type": "execute_result"
    }
   ],
   "source": [
    "diabetes.data.shape"
   ]
  },
  {
   "cell_type": "code",
   "execution_count": 21,
   "id": "1a3c1860",
   "metadata": {},
   "outputs": [
    {
     "data": {
      "text/plain": [
       "(442,)"
      ]
     },
     "execution_count": 21,
     "metadata": {},
     "output_type": "execute_result"
    }
   ],
   "source": [
    "diabetes.target.shape"
   ]
  },
  {
   "cell_type": "code",
   "execution_count": 16,
   "id": "46f457c8",
   "metadata": {},
   "outputs": [
    {
     "data": {
      "text/plain": [
       "['age', 'sex', 'bmi', 'bp', 's1', 's2', 's3', 's4', 's5', 's6']"
      ]
     },
     "execution_count": 16,
     "metadata": {},
     "output_type": "execute_result"
    }
   ],
   "source": [
    "diabetes.feature_names"
   ]
  },
  {
   "cell_type": "code",
   "execution_count": 17,
   "id": "3a017c88",
   "metadata": {},
   "outputs": [
    {
     "name": "stdout",
     "output_type": "stream",
     "text": [
      ".. _diabetes_dataset:\n",
      "\n",
      "Diabetes dataset\n",
      "----------------\n",
      "\n",
      "Ten baseline variables, age, sex, body mass index, average blood\n",
      "pressure, and six blood serum measurements were obtained for each of n =\n",
      "442 diabetes patients, as well as the response of interest, a\n",
      "quantitative measure of disease progression one year after baseline.\n",
      "\n",
      "**Data Set Characteristics:**\n",
      "\n",
      "  :Number of Instances: 442\n",
      "\n",
      "  :Number of Attributes: First 10 columns are numeric predictive values\n",
      "\n",
      "  :Target: Column 11 is a quantitative measure of disease progression one year after baseline\n",
      "\n",
      "  :Attribute Information:\n",
      "      - age     age in years\n",
      "      - sex\n",
      "      - bmi     body mass index\n",
      "      - bp      average blood pressure\n",
      "      - s1      tc, total serum cholesterol\n",
      "      - s2      ldl, low-density lipoproteins\n",
      "      - s3      hdl, high-density lipoproteins\n",
      "      - s4      tch, total cholesterol / HDL\n",
      "      - s5      ltg, possibly log of serum triglycerides level\n",
      "      - s6      glu, blood sugar level\n",
      "\n",
      "Note: Each of these 10 feature variables have been mean centered and scaled by the standard deviation times `n_samples` (i.e. the sum of squares of each column totals 1).\n",
      "\n",
      "Source URL:\n",
      "https://www4.stat.ncsu.edu/~boos/var.select/diabetes.html\n",
      "\n",
      "For more information see:\n",
      "Bradley Efron, Trevor Hastie, Iain Johnstone and Robert Tibshirani (2004) \"Least Angle Regression,\" Annals of Statistics (with discussion), 407-499.\n",
      "(https://web.stanford.edu/~hastie/Papers/LARS/LeastAngle_2002.pdf)\n"
     ]
    }
   ],
   "source": [
    "print(diabetes.DESCR)"
   ]
  },
  {
   "cell_type": "markdown",
   "id": "7fd363d7",
   "metadata": {},
   "source": [
    "## 3. Split train/test"
   ]
  },
  {
   "cell_type": "markdown",
   "id": "11d4029b",
   "metadata": {},
   "source": [
    "### Linear Regression Model"
   ]
  },
  {
   "cell_type": "markdown",
   "id": "3ea1049f",
   "metadata": {},
   "source": [
    "y = Xβ + c + ϵ\n",
    "\n",
    "* X: dữ liệu\n",
    "\n",
    "* β: hệ số \n",
    "\n",
    "* c: hệ số chặn\n",
    "\n",
    "* ϵ: lỗi\n",
    "\n",
    "* y: biến mục tiêu"
   ]
  },
  {
   "cell_type": "code",
   "execution_count": 8,
   "id": "1bca8c72",
   "metadata": {},
   "outputs": [],
   "source": [
    "from sklearn.model_selection import train_test_split\n",
    "X_train, X_test, y_train, y_test = train_test_split(diabetes.data, diabetes.target, test_size=0.2, random_state=0)"
   ]
  },
  {
   "cell_type": "code",
   "execution_count": 9,
   "id": "8e382435",
   "metadata": {},
   "outputs": [
    {
     "data": {
      "text/plain": [
       "((353, 10), (89, 10))"
      ]
     },
     "execution_count": 9,
     "metadata": {},
     "output_type": "execute_result"
    }
   ],
   "source": [
    "X_train.shape, X_test.shape"
   ]
  },
  {
   "cell_type": "code",
   "execution_count": 10,
   "id": "b1783cbd",
   "metadata": {},
   "outputs": [
    {
     "data": {
      "text/plain": [
       "((353,), (89,))"
      ]
     },
     "execution_count": 10,
     "metadata": {},
     "output_type": "execute_result"
    }
   ],
   "source": [
    "y_train.shape, y_test.shape"
   ]
  },
  {
   "cell_type": "markdown",
   "id": "f8e9da14",
   "metadata": {},
   "source": [
    "## 3. Build model"
   ]
  },
  {
   "cell_type": "code",
   "execution_count": 11,
   "id": "78e7eb77",
   "metadata": {},
   "outputs": [
    {
     "data": {
      "text/plain": [
       "0.33222203269065154"
      ]
     },
     "execution_count": 11,
     "metadata": {},
     "output_type": "execute_result"
    }
   ],
   "source": [
    "# 1. Set up the model\n",
    "model = LinearRegression()\n",
    "# 2. Use fit\n",
    "model.fit(X_train, y_train)\n",
    "# 3. Check the score\n",
    "model.score(X_test, y_test)"
   ]
  },
  {
   "cell_type": "code",
   "execution_count": 12,
   "id": "22e3504d",
   "metadata": {},
   "outputs": [
    {
     "data": {
      "text/plain": [
       "array([ -35.55683674, -243.1692265 ,  562.75404632,  305.47203008,\n",
       "       -662.78772128,  324.27527477,   24.78193291,  170.33056502,\n",
       "        731.67810787,   43.02846824])"
      ]
     },
     "execution_count": 12,
     "metadata": {},
     "output_type": "execute_result"
    }
   ],
   "source": [
    "model.coef_ # beta"
   ]
  },
  {
   "cell_type": "code",
   "execution_count": 13,
   "id": "22839f04",
   "metadata": {},
   "outputs": [
    {
     "data": {
      "text/plain": [
       "152.5381335195406"
      ]
     },
     "execution_count": 13,
     "metadata": {},
     "output_type": "execute_result"
    }
   ],
   "source": [
    "model.intercept_ # c"
   ]
  },
  {
   "cell_type": "code",
   "execution_count": 19,
   "id": "2e97e31f",
   "metadata": {},
   "outputs": [
    {
     "data": {
      "text/plain": [
       "array([238.47145247, 248.93170646, 164.05404165, 120.30794355,\n",
       "       187.42422054, 259.04865002, 113.55556372, 188.07597044,\n",
       "       149.49663441, 236.01099949, 172.24629506, 178.88073764,\n",
       "       109.15751983,  92.13508975, 243.33042043,  87.356971  ,\n",
       "       155.72606406,  66.99073989, 100.42610442, 218.09422877,\n",
       "       196.66287912, 161.29832968, 161.70779605, 156.52520454,\n",
       "       197.88796516, 167.57984206, 120.74478913,  84.83879727,\n",
       "       192.03728687, 160.60687024, 175.17178362,  84.22833237,\n",
       "       145.7995542 , 145.97333493, 140.96488953, 197.00421108,\n",
       "       165.94322494, 190.65906468, 128.22520508, 206.41941223,\n",
       "        84.35851196, 164.0256504 , 144.1056776 , 184.68355549,\n",
       "       177.80238966,  74.32855231, 143.3660286 , 138.67726085,\n",
       "       120.81146113, 234.34252077, 161.94390244,  74.5455476 ,\n",
       "       154.71905074, 156.78884927, 237.42227096, 174.23053048,\n",
       "       190.88212635, 118.98373473, 132.20418974, 168.52674824,\n",
       "       214.74245466, 171.42364091, 157.37409906, 108.86927343,\n",
       "       257.06329636, 152.17777143,  82.43686464, 231.56746032,\n",
       "       202.90641336,  47.18340199,  78.46954525, 129.30170908,\n",
       "       104.60253144, 144.65200281, 132.27974254, 190.04134164,\n",
       "        97.55541138, 197.51891007, 219.13709291, 186.13797012,\n",
       "       149.60913007, 208.42379455,  44.59036026, 206.20925368,\n",
       "        76.77377721,  94.94046865, 145.2955051 , 194.03776373,\n",
       "       132.78534336])"
      ]
     },
     "execution_count": 19,
     "metadata": {},
     "output_type": "execute_result"
    }
   ],
   "source": [
    "y_pred = model.predict(X_test) \n",
    "y_pred"
   ]
  },
  {
   "cell_type": "code",
   "execution_count": 15,
   "id": "a4e44ebc",
   "metadata": {},
   "outputs": [
    {
     "data": {
      "image/png": "[encoded data removed]",
      "text/plain": [
       "<Figure size 432x288 with 1 Axes>"
      ]
     },
     "metadata": {
      "needs_background": "light"
     },
     "output_type": "display_data"
    }
   ],
   "source": [
    "# plot prediction and actual data\n",
    "y_pred = model.predict(X_test) \n",
    "plt.plot(y_test, y_pred, '.')\n",
    "\n",
    "# plot a line, a perfit predict would all fall on this line\n",
    "x = np.linspace(0, 330, 100)\n",
    "y = x\n",
    "plt.plot(x, y)\n",
    "plt.show()"
   ]
  },
  {
   "cell_type": "code",
   "execution_count": 20,
   "id": "e746eef7",
   "metadata": {},
   "outputs": [
    {
     "data": {
      "text/html": [
       "<div>\n",
       "<style scoped>\n",
       "    .dataframe tbody tr th:only-of-type {\n",
       "        vertical-align: middle;\n",
       "    }\n",
       "\n",
       "    .dataframe tbody tr th {\n",
       "        vertical-align: top;\n",
       "    }\n",
       "\n",
       "    .dataframe thead th {\n",
       "        text-align: right;\n",
       "    }\n",
       "</style>\n",
       "<table border=\"1\" class=\"dataframe\">\n",
       "  <thead>\n",
       "    <tr style=\"text-align: right;\">\n",
       "      <th></th>\n",
       "      <th>Actual</th>\n",
       "      <th>Predict</th>\n",
       "    </tr>\n",
       "  </thead>\n",
       "  <tbody>\n",
       "    <tr>\n",
       "      <th>0</th>\n",
       "      <td>321.0</td>\n",
       "      <td>238.471452</td>\n",
       "    </tr>\n",
       "    <tr>\n",
       "      <th>1</th>\n",
       "      <td>215.0</td>\n",
       "      <td>248.931706</td>\n",
       "    </tr>\n",
       "    <tr>\n",
       "      <th>2</th>\n",
       "      <td>127.0</td>\n",
       "      <td>164.054042</td>\n",
       "    </tr>\n",
       "    <tr>\n",
       "      <th>3</th>\n",
       "      <td>64.0</td>\n",
       "      <td>120.307944</td>\n",
       "    </tr>\n",
       "    <tr>\n",
       "      <th>4</th>\n",
       "      <td>175.0</td>\n",
       "      <td>187.424221</td>\n",
       "    </tr>\n",
       "    <tr>\n",
       "      <th>...</th>\n",
       "      <td>...</td>\n",
       "      <td>...</td>\n",
       "    </tr>\n",
       "    <tr>\n",
       "      <th>84</th>\n",
       "      <td>104.0</td>\n",
       "      <td>76.773777</td>\n",
       "    </tr>\n",
       "    <tr>\n",
       "      <th>85</th>\n",
       "      <td>49.0</td>\n",
       "      <td>94.940469</td>\n",
       "    </tr>\n",
       "    <tr>\n",
       "      <th>86</th>\n",
       "      <td>103.0</td>\n",
       "      <td>145.295505</td>\n",
       "    </tr>\n",
       "    <tr>\n",
       "      <th>87</th>\n",
       "      <td>142.0</td>\n",
       "      <td>194.037764</td>\n",
       "    </tr>\n",
       "    <tr>\n",
       "      <th>88</th>\n",
       "      <td>59.0</td>\n",
       "      <td>132.785343</td>\n",
       "    </tr>\n",
       "  </tbody>\n",
       "</table>\n",
       "<p>89 rows × 2 columns</p>\n",
       "</div>"
      ],
      "text/plain": [
       "    Actual     Predict\n",
       "0    321.0  238.471452\n",
       "1    215.0  248.931706\n",
       "2    127.0  164.054042\n",
       "3     64.0  120.307944\n",
       "4    175.0  187.424221\n",
       "..     ...         ...\n",
       "84   104.0   76.773777\n",
       "85    49.0   94.940469\n",
       "86   103.0  145.295505\n",
       "87   142.0  194.037764\n",
       "88    59.0  132.785343\n",
       "\n",
       "[89 rows x 2 columns]"
      ]
     },
     "execution_count": 20,
     "metadata": {},
     "output_type": "execute_result"
    }
   ],
   "source": [
    "result = pd.DataFrame({'Actual': y_test, 'Predict' : y_pred})\n",
    "result"
   ]
  },
  {
   "attachments": {
    "image.png": {
     "image/png": "[encoded data removed]"
    }
   },
   "cell_type": "markdown",
   "id": "73ceb792",
   "metadata": {},
   "source": [
    "![image.png](attachment:image.png)"
   ]
  },
  {
   "cell_type": "markdown",
   "id": "b5184c8d",
   "metadata": {},
   "source": [
    "Y: thước đo định lượng về sự tiến triển của bệnh một năm sau so với baseline chắc là S1 or BP"
   ]
  },
  {
   "cell_type": "code",
   "execution_count": null,
   "id": "11971726",
   "metadata": {},
   "outputs": [],
   "source": []
  }
 ],
 "metadata": {
  "kernelspec": {
   "display_name": "Python 3 (ipykernel)",
   "language": "python",
   "name": "python3"
  },
  "language_info": {
   "codemirror_mode": {
    "name": "ipython",
    "version": 3
   },
   "file_extension": ".py",
   "mimetype": "text/x-python",
   "name": "python",
   "nbconvert_exporter": "python",
   "pygments_lexer": "ipython3",
   "version": "3.9.12"
  }
 },
 "nbformat": 4,
 "nbformat_minor": 5
}
