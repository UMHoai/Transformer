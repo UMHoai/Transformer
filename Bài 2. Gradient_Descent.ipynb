{
 "cells": [
  {
   "cell_type": "code",
   "execution_count": 2,
   "id": "23bce13f",
   "metadata": {},
   "outputs": [
    {
     "name": "stdout",
     "output_type": "stream",
     "text": [
      "X: [[1. 1. 0.]\n",
      " [1. 1. 0.]\n",
      " [1. 1. 0.]\n",
      " [1. 1. 0.]\n",
      " [1. 1. 0.]\n",
      " [1. 0. 1.]\n",
      " [1. 0. 1.]\n",
      " [1. 0. 1.]\n",
      " [1. 0. 1.]\n",
      " [1. 0. 1.]]\n"
     ]
    },
    {
     "data": {
      "image/png": "[encoded data removed]",
      "text/plain": [
       "<Figure size 432x288 with 1 Axes>"
      ]
     },
     "metadata": {
      "needs_background": "light"
     },
     "output_type": "display_data"
    },
    {
     "name": "stdout",
     "output_type": "stream",
     "text": [
      "final w: [-0.20073726  0.19935592  1.20211818]\n"
     ]
    },
    {
     "data": {
      "image/png": "[encoded data removed]",
      "text/plain": [
       "<Figure size 432x288 with 1 Axes>"
      ]
     },
     "metadata": {
      "needs_background": "light"
     },
     "output_type": "display_data"
    }
   ],
   "source": [
    "from __future__ import print_function, division\n",
    "from builtins import range\n",
    "# Note: you may need to update your version of future\n",
    "# sudo pip install -U future\n",
    "\n",
    "import numpy as np\n",
    "import matplotlib.pyplot as plt\n",
    "\n",
    "N = 10\n",
    "D = 3\n",
    "X = np.zeros((N, D))\n",
    "X[:,0] = 1 # bias term\n",
    "X[:5,1] = 1\n",
    "X[5:,2] = 1\n",
    "Y = np.array([0]*5 + [1]*5)\n",
    "\n",
    "# print X so you know what it looks like\n",
    "print(\"X:\", X)\n",
    "\n",
    "# won't work!\n",
    "# w = np.linalg.solve(X.T.dot(X), X.T.dot(Y))\n",
    "\n",
    "costs = [] # theo dõi chi phí lỗi bình phương\n",
    "w = np.random.randn(D) / np.sqrt(D) # randomly initialize w\n",
    "learning_rate = 0.001\n",
    "for t in range(1000):\n",
    "    # update w\n",
    "    Yhat = X.dot(w)\n",
    "    delta = Yhat - Y\n",
    "    w = w - learning_rate*X.T.dot(delta)\n",
    "\n",
    "    # find and store the cost\n",
    "    mse = delta.dot(delta) / N\n",
    "    costs.append(mse)\n",
    "\n",
    "# plot the costs\n",
    "plt.plot(costs)\n",
    "plt.show()\n",
    "\n",
    "print(\"final w:\", w)\n",
    "\n",
    "# plot prediction vs target\n",
    "plt.plot(Yhat, label='prediction')\n",
    "plt.plot(Y, label='target')\n",
    "plt.legend()\n",
    "plt.show()"
   ]
  },
  {
   "cell_type": "code",
   "execution_count": null,
   "id": "d19c66a5",
   "metadata": {},
   "outputs": [],
   "source": []
  }
 ],
 "metadata": {
  "kernelspec": {
   "display_name": "Python 3 (ipykernel)",
   "language": "python",
   "name": "python3"
  },
  "language_info": {
   "codemirror_mode": {
    "name": "ipython",
    "version": 3
   },
   "file_extension": ".py",
   "mimetype": "text/x-python",
   "name": "python",
   "nbconvert_exporter": "python",
   "pygments_lexer": "ipython3",
   "version": "3.9.12"
  }
 },
 "nbformat": 4,
 "nbformat_minor": 5
}
