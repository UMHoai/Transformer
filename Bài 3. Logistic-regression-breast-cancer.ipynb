{
 "cells": [
  {
   "cell_type": "markdown",
   "metadata": {},
   "source": [
    "# Classification Logistic Regression on Breast Cancer Dataset"
   ]
  },
  {
   "cell_type": "code",
   "execution_count": 1,
   "metadata": {
    "execution": {
     "iopub.execute_input": "2022-08-10T14:28:21.955852Z",
     "iopub.status.busy": "2022-08-10T14:28:21.955326Z",
     "iopub.status.idle": "2022-08-10T14:28:21.988060Z",
     "shell.execute_reply": "2022-08-10T14:28:21.986839Z",
     "shell.execute_reply.started": "2022-08-10T14:28:21.955748Z"
    }
   },
   "outputs": [],
   "source": [
    "import numpy as np\n",
    "import pandas as pd"
   ]
  },
  {
   "cell_type": "code",
   "execution_count": 19,
   "metadata": {
    "execution": {
     "iopub.execute_input": "2022-08-10T14:28:47.808219Z",
     "iopub.status.busy": "2022-08-10T14:28:47.807543Z",
     "iopub.status.idle": "2022-08-10T14:28:47.833959Z",
     "shell.execute_reply": "2022-08-10T14:28:47.832620Z",
     "shell.execute_reply.started": "2022-08-10T14:28:47.808160Z"
    }
   },
   "outputs": [
    {
     "data": {
      "text/plain": [
       "dict_keys(['data', 'target', 'frame', 'target_names', 'DESCR', 'feature_names', 'filename', 'data_module'])"
      ]
     },
     "execution_count": 19,
     "metadata": {},
     "output_type": "execute_result"
    }
   ],
   "source": [
    "from sklearn import datasets\n",
    "\n",
    "data = datasets.load_breast_cancer()\n",
    "data.keys() "
   ]
  },
  {
   "cell_type": "code",
   "execution_count": 3,
   "metadata": {
    "execution": {
     "iopub.execute_input": "2022-08-10T14:29:03.286198Z",
     "iopub.status.busy": "2022-08-10T14:29:03.285722Z",
     "iopub.status.idle": "2022-08-10T14:29:03.292598Z",
     "shell.execute_reply": "2022-08-10T14:29:03.291115Z",
     "shell.execute_reply.started": "2022-08-10T14:29:03.286161Z"
    }
   },
   "outputs": [],
   "source": [
    "X = data.data\n",
    "y = data.target"
   ]
  },
  {
   "cell_type": "code",
   "execution_count": 18,
   "metadata": {
    "execution": {
     "iopub.execute_input": "2022-08-10T14:30:42.016794Z",
     "iopub.status.busy": "2022-08-10T14:30:42.016289Z",
     "iopub.status.idle": "2022-08-10T14:30:42.103195Z",
     "shell.execute_reply": "2022-08-10T14:30:42.101817Z",
     "shell.execute_reply.started": "2022-08-10T14:30:42.016753Z"
    }
   },
   "outputs": [],
   "source": [
    "from sklearn.model_selection import train_test_split\n",
    "\n",
    "X_train, X_test, y_train, y_test = train_test_split(X,y,test_size=0.3, random_state=5)"
   ]
  },
  {
   "cell_type": "code",
   "execution_count": 17,
   "metadata": {
    "execution": {
     "iopub.execute_input": "2022-08-10T14:32:45.686777Z",
     "iopub.status.busy": "2022-08-10T14:32:45.686234Z",
     "iopub.status.idle": "2022-08-10T14:32:45.695649Z",
     "shell.execute_reply": "2022-08-10T14:32:45.693971Z",
     "shell.execute_reply.started": "2022-08-10T14:32:45.686735Z"
    }
   },
   "outputs": [],
   "source": [
    "from sklearn.preprocessing import StandardScaler \n",
    "\n",
    "scalar = StandardScaler()\n",
    "X_train = scalar.fit_transform(X_train)\n",
    "X_test = scalar.transform(X_test) "
   ]
  },
  {
   "cell_type": "code",
   "execution_count": 16,
   "metadata": {
    "execution": {
     "iopub.execute_input": "2022-08-10T14:35:02.589266Z",
     "iopub.status.busy": "2022-08-10T14:35:02.588811Z",
     "iopub.status.idle": "2022-08-10T14:35:02.708091Z",
     "shell.execute_reply": "2022-08-10T14:35:02.706290Z",
     "shell.execute_reply.started": "2022-08-10T14:35:02.589232Z"
    }
   },
   "outputs": [],
   "source": [
    "from sklearn.linear_model import LogisticRegression\n",
    "\n",
    "model = LogisticRegression()\n",
    "model.fit(X_train, y_train)\n",
    "y_pred = model.predict(X_test)"
   ]
  },
  {
   "cell_type": "code",
   "execution_count": 7,
   "metadata": {
    "execution": {
     "iopub.execute_input": "2022-08-10T14:36:55.596116Z",
     "iopub.status.busy": "2022-08-10T14:36:55.595612Z",
     "iopub.status.idle": "2022-08-10T14:36:55.602331Z",
     "shell.execute_reply": "2022-08-10T14:36:55.601198Z",
     "shell.execute_reply.started": "2022-08-10T14:36:55.596076Z"
    }
   },
   "outputs": [],
   "source": [
    "from sklearn.metrics import confusion_matrix, precision_score, recall_score, accuracy_score, f1_score, roc_auc_score "
   ]
  },
  {
   "cell_type": "code",
   "execution_count": 8,
   "metadata": {
    "execution": {
     "iopub.execute_input": "2022-08-10T14:37:39.710192Z",
     "iopub.status.busy": "2022-08-10T14:37:39.709705Z",
     "iopub.status.idle": "2022-08-10T14:37:39.721693Z",
     "shell.execute_reply": "2022-08-10T14:37:39.720589Z",
     "shell.execute_reply.started": "2022-08-10T14:37:39.710157Z"
    }
   },
   "outputs": [
    {
     "data": {
      "text/plain": [
       "0.9819819819819819"
      ]
     },
     "execution_count": 8,
     "metadata": {},
     "output_type": "execute_result"
    }
   ],
   "source": [
    "precision_score(y_test, y_pred)"
   ]
  },
  {
   "cell_type": "code",
   "execution_count": 9,
   "metadata": {
    "execution": {
     "iopub.execute_input": "2022-08-10T14:37:24.165741Z",
     "iopub.status.busy": "2022-08-10T14:37:24.165280Z",
     "iopub.status.idle": "2022-08-10T14:37:24.177127Z",
     "shell.execute_reply": "2022-08-10T14:37:24.175902Z",
     "shell.execute_reply.started": "2022-08-10T14:37:24.165686Z"
    }
   },
   "outputs": [
    {
     "data": {
      "text/plain": [
       "array([[ 59,   2],\n",
       "       [  1, 109]], dtype=int64)"
      ]
     },
     "execution_count": 9,
     "metadata": {},
     "output_type": "execute_result"
    }
   ],
   "source": [
    "confusion_matrix(y_test, y_pred) "
   ]
  },
  {
   "cell_type": "code",
   "execution_count": 15,
   "metadata": {
    "_kg_hide-input": true,
    "execution": {
     "iopub.execute_input": "2022-08-10T14:48:09.014400Z",
     "iopub.status.busy": "2022-08-10T14:48:09.013954Z",
     "iopub.status.idle": "2022-08-10T14:48:09.254516Z",
     "shell.execute_reply": "2022-08-10T14:48:09.253123Z",
     "shell.execute_reply.started": "2022-08-10T14:48:09.014368Z"
    }
   },
   "outputs": [
    {
     "data": {
      "image/png": "[encoded data removed]",
      "text/plain": [
       "<Figure size 432x288 with 2 Axes>"
      ]
     },
     "metadata": {
      "needs_background": "light"
     },
     "output_type": "display_data"
    }
   ],
   "source": [
    "from sklearn.metrics import plot_confusion_matrix\n",
    "import matplotlib.pyplot as plt\n",
    "import warnings\n",
    "warnings.simplefilter(action=\"ignore\")\n",
    "\n",
    "plot_confusion_matrix(model,X_test, y_test, cmap=plt.cm.Blues)\n",
    "plt.show()  "
   ]
  },
  {
   "cell_type": "code",
   "execution_count": 11,
   "metadata": {
    "execution": {
     "iopub.execute_input": "2022-08-10T14:37:55.959609Z",
     "iopub.status.busy": "2022-08-10T14:37:55.959166Z",
     "iopub.status.idle": "2022-08-10T14:37:55.970089Z",
     "shell.execute_reply": "2022-08-10T14:37:55.968748Z",
     "shell.execute_reply.started": "2022-08-10T14:37:55.959572Z"
    }
   },
   "outputs": [
    {
     "data": {
      "text/plain": [
       "0.9824561403508771"
      ]
     },
     "execution_count": 11,
     "metadata": {},
     "output_type": "execute_result"
    }
   ],
   "source": [
    "accuracy_score(y_test, y_pred)"
   ]
  },
  {
   "cell_type": "code",
   "execution_count": 12,
   "metadata": {
    "execution": {
     "iopub.execute_input": "2022-08-10T14:38:05.518364Z",
     "iopub.status.busy": "2022-08-10T14:38:05.517975Z",
     "iopub.status.idle": "2022-08-10T14:38:05.527796Z",
     "shell.execute_reply": "2022-08-10T14:38:05.526675Z",
     "shell.execute_reply.started": "2022-08-10T14:38:05.518331Z"
    }
   },
   "outputs": [
    {
     "data": {
      "text/plain": [
       "0.990909090909091"
      ]
     },
     "execution_count": 12,
     "metadata": {},
     "output_type": "execute_result"
    }
   ],
   "source": [
    "recall_score(y_test, y_pred)"
   ]
  },
  {
   "cell_type": "code",
   "execution_count": 13,
   "metadata": {
    "execution": {
     "iopub.execute_input": "2022-08-10T14:38:13.298926Z",
     "iopub.status.busy": "2022-08-10T14:38:13.298481Z",
     "iopub.status.idle": "2022-08-10T14:38:13.308487Z",
     "shell.execute_reply": "2022-08-10T14:38:13.307042Z",
     "shell.execute_reply.started": "2022-08-10T14:38:13.298892Z"
    }
   },
   "outputs": [
    {
     "data": {
      "text/plain": [
       "0.9864253393665158"
      ]
     },
     "execution_count": 13,
     "metadata": {},
     "output_type": "execute_result"
    }
   ],
   "source": [
    "f1_score(y_test, y_pred)"
   ]
  },
  {
   "cell_type": "code",
   "execution_count": 14,
   "metadata": {
    "execution": {
     "iopub.execute_input": "2022-08-10T14:38:29.715027Z",
     "iopub.status.busy": "2022-08-10T14:38:29.714608Z",
     "iopub.status.idle": "2022-08-10T14:38:29.727156Z",
     "shell.execute_reply": "2022-08-10T14:38:29.725769Z",
     "shell.execute_reply.started": "2022-08-10T14:38:29.714993Z"
    }
   },
   "outputs": [
    {
     "data": {
      "text/plain": [
       "0.9790611028315946"
      ]
     },
     "execution_count": 14,
     "metadata": {},
     "output_type": "execute_result"
    }
   ],
   "source": [
    "roc_auc_score(y_test, y_pred)"
   ]
  }
 ],
 "metadata": {
  "kernelspec": {
   "display_name": "Python 3 (ipykernel)",
   "language": "python",
   "name": "python3"
  },
  "language_info": {
   "codemirror_mode": {
    "name": "ipython",
    "version": 3
   },
   "file_extension": ".py",
   "mimetype": "text/x-python",
   "name": "python",
   "nbconvert_exporter": "python",
   "pygments_lexer": "ipython3",
   "version": "3.9.12"
  }
 },
 "nbformat": 4,
 "nbformat_minor": 4
}
