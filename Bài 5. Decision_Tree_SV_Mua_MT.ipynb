{
 "cells": [
  {
   "cell_type": "code",
   "execution_count": 1,
   "id": "d0d63298",
   "metadata": {},
   "outputs": [],
   "source": [
    "import pandas as pd \n",
    "from sklearn.tree import DecisionTreeClassifier\n",
    "from sklearn import tree"
   ]
  },
  {
   "cell_type": "code",
   "execution_count": 6,
   "id": "4b6dafda",
   "metadata": {},
   "outputs": [
    {
     "data": {
      "text/html": [
       "<div>\n",
       "<style scoped>\n",
       "    .dataframe tbody tr th:only-of-type {\n",
       "        vertical-align: middle;\n",
       "    }\n",
       "\n",
       "    .dataframe tbody tr th {\n",
       "        vertical-align: top;\n",
       "    }\n",
       "\n",
       "    .dataframe thead th {\n",
       "        text-align: right;\n",
       "    }\n",
       "</style>\n",
       "<table border=\"1\" class=\"dataframe\">\n",
       "  <thead>\n",
       "    <tr style=\"text-align: right;\">\n",
       "      <th></th>\n",
       "      <th>ID</th>\n",
       "      <th>Tuoi</th>\n",
       "      <th>Thunhap</th>\n",
       "      <th>Sinhvien</th>\n",
       "      <th>DGTD</th>\n",
       "      <th>MuaMT</th>\n",
       "    </tr>\n",
       "  </thead>\n",
       "  <tbody>\n",
       "    <tr>\n",
       "      <th>0</th>\n",
       "      <td>1</td>\n",
       "      <td>0</td>\n",
       "      <td>1</td>\n",
       "      <td>1</td>\n",
       "      <td>1</td>\n",
       "      <td>2</td>\n",
       "    </tr>\n",
       "    <tr>\n",
       "      <th>1</th>\n",
       "      <td>2</td>\n",
       "      <td>0</td>\n",
       "      <td>1</td>\n",
       "      <td>1</td>\n",
       "      <td>2</td>\n",
       "      <td>2</td>\n",
       "    </tr>\n",
       "    <tr>\n",
       "      <th>2</th>\n",
       "      <td>3</td>\n",
       "      <td>1</td>\n",
       "      <td>1</td>\n",
       "      <td>1</td>\n",
       "      <td>1</td>\n",
       "      <td>1</td>\n",
       "    </tr>\n",
       "    <tr>\n",
       "      <th>3</th>\n",
       "      <td>4</td>\n",
       "      <td>2</td>\n",
       "      <td>3</td>\n",
       "      <td>1</td>\n",
       "      <td>1</td>\n",
       "      <td>1</td>\n",
       "    </tr>\n",
       "    <tr>\n",
       "      <th>4</th>\n",
       "      <td>5</td>\n",
       "      <td>2</td>\n",
       "      <td>2</td>\n",
       "      <td>2</td>\n",
       "      <td>1</td>\n",
       "      <td>1</td>\n",
       "    </tr>\n",
       "  </tbody>\n",
       "</table>\n",
       "</div>"
      ],
      "text/plain": [
       "   ID  Tuoi  Thunhap  Sinhvien  DGTD  MuaMT\n",
       "0   1     0        1         1     1      2\n",
       "1   2     0        1         1     2      2\n",
       "2   3     1        1         1     1      1\n",
       "3   4     2        3         1     1      1\n",
       "4   5     2        2         2     1      1"
      ]
     },
     "execution_count": 6,
     "metadata": {},
     "output_type": "execute_result"
    }
   ],
   "source": [
    "dl = pd.read_csv(\"dataset/svmuaMT.csv\")\n",
    "dl.head()"
   ]
  },
  {
   "cell_type": "code",
   "execution_count": 7,
   "id": "270583e8",
   "metadata": {},
   "outputs": [],
   "source": [
    "X = dl[['Tuoi', 'Thunhap', 'Sinhvien', 'DGTD']]\n",
    "y = dl['MuaMT']"
   ]
  },
  {
   "cell_type": "code",
   "execution_count": 8,
   "id": "29517d3f",
   "metadata": {},
   "outputs": [
    {
     "name": "stdout",
     "output_type": "stream",
     "text": [
      "|--- feature_1 <= 1.50\n",
      "|   |--- feature_0 <= 0.50\n",
      "|   |   |--- class: 2\n",
      "|   |--- feature_0 >  0.50\n",
      "|   |   |--- feature_2 <= 1.50\n",
      "|   |   |   |--- class: 1\n",
      "|   |   |--- feature_2 >  1.50\n",
      "|   |   |   |--- class: 2\n",
      "|--- feature_1 >  1.50\n",
      "|   |--- feature_0 <= 1.50\n",
      "|   |   |--- class: 1\n",
      "|   |--- feature_0 >  1.50\n",
      "|   |   |--- feature_3 <= 1.50\n",
      "|   |   |   |--- class: 1\n",
      "|   |   |--- feature_3 >  1.50\n",
      "|   |   |   |--- class: 2\n",
      "\n"
     ]
    }
   ],
   "source": [
    "model = DecisionTreeClassifier()\n",
    "model.fit(X, y)\n",
    "\n",
    "# print(model.predict(X))\n",
    "# print(model.score(X,y))\n",
    "\n",
    "text_repr = tree.export_text(model)\n",
    "print(text_repr)"
   ]
  },
  {
   "cell_type": "code",
   "execution_count": 9,
   "id": "a0fbea77",
   "metadata": {},
   "outputs": [
    {
     "name": "stdout",
     "output_type": "stream",
     "text": [
      "[2 2 1 1 1 2 1 1 1 1 1 1 2 2]\n",
      "0     2\n",
      "1     2\n",
      "2     1\n",
      "3     1\n",
      "4     1\n",
      "5     2\n",
      "6     1\n",
      "7     1\n",
      "8     1\n",
      "9     1\n",
      "10    1\n",
      "11    1\n",
      "12    2\n",
      "13    2\n",
      "Name: MuaMT, dtype: int64\n",
      "1.0\n"
     ]
    }
   ],
   "source": [
    "y1=model.predict(X)\n",
    "print(y1)\n",
    "print(y)\n",
    "print(model.score(X,y))"
   ]
  },
  {
   "cell_type": "code",
   "execution_count": null,
   "id": "3816442d",
   "metadata": {},
   "outputs": [],
   "source": []
  }
 ],
 "metadata": {
  "kernelspec": {
   "display_name": "Python 3 (ipykernel)",
   "language": "python",
   "name": "python3"
  },
  "language_info": {
   "codemirror_mode": {
    "name": "ipython",
    "version": 3
   },
   "file_extension": ".py",
   "mimetype": "text/x-python",
   "name": "python",
   "nbconvert_exporter": "python",
   "pygments_lexer": "ipython3",
   "version": "3.9.12"
  }
 },
 "nbformat": 4,
 "nbformat_minor": 5
}
