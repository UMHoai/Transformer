{
 "cells": [
  {
   "cell_type": "markdown",
   "id": "00ecfc88",
   "metadata": {},
   "source": [
    "# Huấn luyện 1 nơ ron"
   ]
  },
  {
   "cell_type": "code",
   "execution_count": 1,
   "id": "85f27eb0",
   "metadata": {},
   "outputs": [],
   "source": [
    "import numpy as np"
   ]
  },
  {
   "cell_type": "code",
   "execution_count": 2,
   "id": "ec9d17c3",
   "metadata": {},
   "outputs": [],
   "source": [
    "X = np.array([[0,0,1], [1,1,1], [1,0,1], [0,1,1]])\n",
    "y = np.array([[0,1,1,0]]).T"
   ]
  },
  {
   "cell_type": "code",
   "execution_count": 3,
   "id": "affcc1e5",
   "metadata": {},
   "outputs": [],
   "source": [
    "w = np.random.random((3,1))"
   ]
  },
  {
   "cell_type": "code",
   "execution_count": 4,
   "id": "19e7ffd5",
   "metadata": {},
   "outputs": [
    {
     "data": {
      "text/plain": [
       "array([[0.60370636],\n",
       "       [0.39729811],\n",
       "       [0.0824548 ]])"
      ]
     },
     "execution_count": 4,
     "metadata": {},
     "output_type": "execute_result"
    }
   ],
   "source": [
    "w"
   ]
  },
  {
   "cell_type": "code",
   "execution_count": 6,
   "id": "af0a5042",
   "metadata": {},
   "outputs": [],
   "source": [
    "# huấn luyện 1 neural \n",
    "for i in range(10000):\n",
    "    z = np.dot(X, w)\n",
    "    O = 1/(1+np.exp(-z))\n",
    "    w = w - np.dot(X.T, (O - y) * O * (1 - O))\n"
   ]
  },
  {
   "cell_type": "code",
   "execution_count": 10,
   "id": "556e77db",
   "metadata": {},
   "outputs": [
    {
     "data": {
      "text/plain": [
       "array([[0.00966636],\n",
       "       [0.9921186 ],\n",
       "       [0.99359055],\n",
       "       [0.0078637 ]])"
      ]
     },
     "execution_count": 10,
     "metadata": {},
     "output_type": "execute_result"
    }
   ],
   "source": [
    "# O tức là y mũ\n",
    "O"
   ]
  }
 ],
 "metadata": {
  "kernelspec": {
   "display_name": "Python 3 (ipykernel)",
   "language": "python",
   "name": "python3"
  },
  "language_info": {
   "codemirror_mode": {
    "name": "ipython",
    "version": 3
   },
   "file_extension": ".py",
   "mimetype": "text/x-python",
   "name": "python",
   "nbconvert_exporter": "python",
   "pygments_lexer": "ipython3",
   "version": "3.9.12"
  }
 },
 "nbformat": 4,
 "nbformat_minor": 5
}
