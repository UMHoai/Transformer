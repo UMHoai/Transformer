{
 "cells": [
  {
   "cell_type": "markdown",
   "id": "f04368d6",
   "metadata": {},
   "source": [
    "# Huấn luyện 1 nơ ron và lý do tại sao cần nhiều nơ ron ?"
   ]
  },
  {
   "cell_type": "code",
   "execution_count": 24,
   "id": "4140c85d",
   "metadata": {},
   "outputs": [],
   "source": [
    "import numpy as np\n",
    "\n",
    "X = np.array([[0,0], [1,1], [0,1], [1,0]])\n",
    "y = np.array([[0,0,1,1]]).T\n",
    "\n",
    "w = np.random.random((2,1))\n",
    "\n",
    "# huấn luyện 1 neural \n",
    "for i in range(10000):\n",
    "    z = np.dot(X, w)\n",
    "    O = 1/(1+np.exp(-z))\n",
    "    w = w - np.dot(X.T, (O - y) * O * (1 - O))"
   ]
  },
  {
   "cell_type": "code",
   "execution_count": 25,
   "id": "2c5f3249",
   "metadata": {},
   "outputs": [
    {
     "data": {
      "text/plain": [
       "array([[0.5],\n",
       "       [0.5],\n",
       "       [0.5],\n",
       "       [0.5]])"
      ]
     },
     "execution_count": 25,
     "metadata": {},
     "output_type": "execute_result"
    }
   ],
   "source": [
    "O"
   ]
  },
  {
   "cell_type": "markdown",
   "id": "15c49a71",
   "metadata": {},
   "source": [
    "* 1 neural trong trường này quá yếu không phân biệt được vì vậy cần nhiều noron phối hợp với nhau. Lý do tại sao một mạng gồm nhiều nơ ron. \n",
    "\n",
    "* Gioong như con người gồm nhiều no ron "
   ]
  }
 ],
 "metadata": {
  "kernelspec": {
   "display_name": "Python 3 (ipykernel)",
   "language": "python",
   "name": "python3"
  },
  "language_info": {
   "codemirror_mode": {
    "name": "ipython",
    "version": 3
   },
   "file_extension": ".py",
   "mimetype": "text/x-python",
   "name": "python",
   "nbconvert_exporter": "python",
   "pygments_lexer": "ipython3",
   "version": "3.9.12"
  }
 },
 "nbformat": 4,
 "nbformat_minor": 5
}
