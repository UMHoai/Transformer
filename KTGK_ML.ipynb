{
  "nbformat": 4,
  "nbformat_minor": 0,
  "metadata": {
    "colab": {
      "provenance": []
    },
    "kernelspec": {
      "name": "python3",
      "display_name": "Python 3"
    },
    "language_info": {
      "name": "python"
    }
  },
  "cells": [
    {
      "cell_type": "code",
      "execution_count": 1,
      "metadata": {
        "colab": {
          "base_uri": "https://localhost:8080/"
        },
        "id": "z9yaXyXe7154",
        "outputId": "2fc73a3a-18a6-4829-ea75-cc6c0aeb6b1e"
      },
      "outputs": [
        {
          "output_type": "stream",
          "name": "stdout",
          "text": [
            "Mounted at /content/drive\n"
          ]
        }
      ],
      "source": [
        "from google.colab import drive\n",
        "drive.mount('/content/drive')"
      ]
    },
    {
      "cell_type": "markdown",
      "source": [
        "Bước 1: Import bibrary"
      ],
      "metadata": {
        "id": "-adtwlDqSRAc"
      }
    },
    {
      "cell_type": "code",
      "source": [
        "# import library\n",
        "import numpy as np\n",
        "import pandas as pd\n",
        "from matplotlib import pyplot as plt\n",
        "from tensorflow.keras.models import Sequential\n",
        "from tensorflow.keras.layers import Dense # thư viện để hoàn thiện mạng ANN\n",
        "from tensorflow.keras.utils import to_categorical\n",
        "from sklearn.datasets import load_iris\n",
        "from sklearn.model_selection import train_test_split"
      ],
      "metadata": {
        "id": "viIwx4xxf-yt"
      },
      "execution_count": 96,
      "outputs": []
    },
    {
      "cell_type": "markdown",
      "source": [
        "Bước 2: Chuẩn bị data"
      ],
      "metadata": {
        "id": "VhhxtpLqSUzB"
      }
    },
    {
      "cell_type": "code",
      "source": [
        "data = load_iris()"
      ],
      "metadata": {
        "id": "CWuWwUvLITJP"
      },
      "execution_count": 97,
      "outputs": []
    },
    {
      "cell_type": "code",
      "source": [
        "data.data"
      ],
      "metadata": {
        "colab": {
          "base_uri": "https://localhost:8080/"
        },
        "id": "eB_NDi8GMQqh",
        "outputId": "d0ae86be-a937-4c2d-80d9-1007eb0d03c0"
      },
      "execution_count": 98,
      "outputs": [
        {
          "output_type": "execute_result",
          "data": {
            "text/plain": [
              "array([[5.1, 3.5, 1.4, 0.2],\n",
              "       [4.9, 3. , 1.4, 0.2],\n",
              "       [4.7, 3.2, 1.3, 0.2],\n",
              "       [4.6, 3.1, 1.5, 0.2],\n",
              "       [5. , 3.6, 1.4, 0.2],\n",
              "       [5.4, 3.9, 1.7, 0.4],\n",
              "       [4.6, 3.4, 1.4, 0.3],\n",
              "       [5. , 3.4, 1.5, 0.2],\n",
              "       [4.4, 2.9, 1.4, 0.2],\n",
              "       [4.9, 3.1, 1.5, 0.1],\n",
              "       [5.4, 3.7, 1.5, 0.2],\n",
              "       [4.8, 3.4, 1.6, 0.2],\n",
              "       [4.8, 3. , 1.4, 0.1],\n",
              "       [4.3, 3. , 1.1, 0.1],\n",
              "       [5.8, 4. , 1.2, 0.2],\n",
              "       [5.7, 4.4, 1.5, 0.4],\n",
              "       [5.4, 3.9, 1.3, 0.4],\n",
              "       [5.1, 3.5, 1.4, 0.3],\n",
              "       [5.7, 3.8, 1.7, 0.3],\n",
              "       [5.1, 3.8, 1.5, 0.3],\n",
              "       [5.4, 3.4, 1.7, 0.2],\n",
              "       [5.1, 3.7, 1.5, 0.4],\n",
              "       [4.6, 3.6, 1. , 0.2],\n",
              "       [5.1, 3.3, 1.7, 0.5],\n",
              "       [4.8, 3.4, 1.9, 0.2],\n",
              "       [5. , 3. , 1.6, 0.2],\n",
              "       [5. , 3.4, 1.6, 0.4],\n",
              "       [5.2, 3.5, 1.5, 0.2],\n",
              "       [5.2, 3.4, 1.4, 0.2],\n",
              "       [4.7, 3.2, 1.6, 0.2],\n",
              "       [4.8, 3.1, 1.6, 0.2],\n",
              "       [5.4, 3.4, 1.5, 0.4],\n",
              "       [5.2, 4.1, 1.5, 0.1],\n",
              "       [5.5, 4.2, 1.4, 0.2],\n",
              "       [4.9, 3.1, 1.5, 0.2],\n",
              "       [5. , 3.2, 1.2, 0.2],\n",
              "       [5.5, 3.5, 1.3, 0.2],\n",
              "       [4.9, 3.6, 1.4, 0.1],\n",
              "       [4.4, 3. , 1.3, 0.2],\n",
              "       [5.1, 3.4, 1.5, 0.2],\n",
              "       [5. , 3.5, 1.3, 0.3],\n",
              "       [4.5, 2.3, 1.3, 0.3],\n",
              "       [4.4, 3.2, 1.3, 0.2],\n",
              "       [5. , 3.5, 1.6, 0.6],\n",
              "       [5.1, 3.8, 1.9, 0.4],\n",
              "       [4.8, 3. , 1.4, 0.3],\n",
              "       [5.1, 3.8, 1.6, 0.2],\n",
              "       [4.6, 3.2, 1.4, 0.2],\n",
              "       [5.3, 3.7, 1.5, 0.2],\n",
              "       [5. , 3.3, 1.4, 0.2],\n",
              "       [7. , 3.2, 4.7, 1.4],\n",
              "       [6.4, 3.2, 4.5, 1.5],\n",
              "       [6.9, 3.1, 4.9, 1.5],\n",
              "       [5.5, 2.3, 4. , 1.3],\n",
              "       [6.5, 2.8, 4.6, 1.5],\n",
              "       [5.7, 2.8, 4.5, 1.3],\n",
              "       [6.3, 3.3, 4.7, 1.6],\n",
              "       [4.9, 2.4, 3.3, 1. ],\n",
              "       [6.6, 2.9, 4.6, 1.3],\n",
              "       [5.2, 2.7, 3.9, 1.4],\n",
              "       [5. , 2. , 3.5, 1. ],\n",
              "       [5.9, 3. , 4.2, 1.5],\n",
              "       [6. , 2.2, 4. , 1. ],\n",
              "       [6.1, 2.9, 4.7, 1.4],\n",
              "       [5.6, 2.9, 3.6, 1.3],\n",
              "       [6.7, 3.1, 4.4, 1.4],\n",
              "       [5.6, 3. , 4.5, 1.5],\n",
              "       [5.8, 2.7, 4.1, 1. ],\n",
              "       [6.2, 2.2, 4.5, 1.5],\n",
              "       [5.6, 2.5, 3.9, 1.1],\n",
              "       [5.9, 3.2, 4.8, 1.8],\n",
              "       [6.1, 2.8, 4. , 1.3],\n",
              "       [6.3, 2.5, 4.9, 1.5],\n",
              "       [6.1, 2.8, 4.7, 1.2],\n",
              "       [6.4, 2.9, 4.3, 1.3],\n",
              "       [6.6, 3. , 4.4, 1.4],\n",
              "       [6.8, 2.8, 4.8, 1.4],\n",
              "       [6.7, 3. , 5. , 1.7],\n",
              "       [6. , 2.9, 4.5, 1.5],\n",
              "       [5.7, 2.6, 3.5, 1. ],\n",
              "       [5.5, 2.4, 3.8, 1.1],\n",
              "       [5.5, 2.4, 3.7, 1. ],\n",
              "       [5.8, 2.7, 3.9, 1.2],\n",
              "       [6. , 2.7, 5.1, 1.6],\n",
              "       [5.4, 3. , 4.5, 1.5],\n",
              "       [6. , 3.4, 4.5, 1.6],\n",
              "       [6.7, 3.1, 4.7, 1.5],\n",
              "       [6.3, 2.3, 4.4, 1.3],\n",
              "       [5.6, 3. , 4.1, 1.3],\n",
              "       [5.5, 2.5, 4. , 1.3],\n",
              "       [5.5, 2.6, 4.4, 1.2],\n",
              "       [6.1, 3. , 4.6, 1.4],\n",
              "       [5.8, 2.6, 4. , 1.2],\n",
              "       [5. , 2.3, 3.3, 1. ],\n",
              "       [5.6, 2.7, 4.2, 1.3],\n",
              "       [5.7, 3. , 4.2, 1.2],\n",
              "       [5.7, 2.9, 4.2, 1.3],\n",
              "       [6.2, 2.9, 4.3, 1.3],\n",
              "       [5.1, 2.5, 3. , 1.1],\n",
              "       [5.7, 2.8, 4.1, 1.3],\n",
              "       [6.3, 3.3, 6. , 2.5],\n",
              "       [5.8, 2.7, 5.1, 1.9],\n",
              "       [7.1, 3. , 5.9, 2.1],\n",
              "       [6.3, 2.9, 5.6, 1.8],\n",
              "       [6.5, 3. , 5.8, 2.2],\n",
              "       [7.6, 3. , 6.6, 2.1],\n",
              "       [4.9, 2.5, 4.5, 1.7],\n",
              "       [7.3, 2.9, 6.3, 1.8],\n",
              "       [6.7, 2.5, 5.8, 1.8],\n",
              "       [7.2, 3.6, 6.1, 2.5],\n",
              "       [6.5, 3.2, 5.1, 2. ],\n",
              "       [6.4, 2.7, 5.3, 1.9],\n",
              "       [6.8, 3. , 5.5, 2.1],\n",
              "       [5.7, 2.5, 5. , 2. ],\n",
              "       [5.8, 2.8, 5.1, 2.4],\n",
              "       [6.4, 3.2, 5.3, 2.3],\n",
              "       [6.5, 3. , 5.5, 1.8],\n",
              "       [7.7, 3.8, 6.7, 2.2],\n",
              "       [7.7, 2.6, 6.9, 2.3],\n",
              "       [6. , 2.2, 5. , 1.5],\n",
              "       [6.9, 3.2, 5.7, 2.3],\n",
              "       [5.6, 2.8, 4.9, 2. ],\n",
              "       [7.7, 2.8, 6.7, 2. ],\n",
              "       [6.3, 2.7, 4.9, 1.8],\n",
              "       [6.7, 3.3, 5.7, 2.1],\n",
              "       [7.2, 3.2, 6. , 1.8],\n",
              "       [6.2, 2.8, 4.8, 1.8],\n",
              "       [6.1, 3. , 4.9, 1.8],\n",
              "       [6.4, 2.8, 5.6, 2.1],\n",
              "       [7.2, 3. , 5.8, 1.6],\n",
              "       [7.4, 2.8, 6.1, 1.9],\n",
              "       [7.9, 3.8, 6.4, 2. ],\n",
              "       [6.4, 2.8, 5.6, 2.2],\n",
              "       [6.3, 2.8, 5.1, 1.5],\n",
              "       [6.1, 2.6, 5.6, 1.4],\n",
              "       [7.7, 3. , 6.1, 2.3],\n",
              "       [6.3, 3.4, 5.6, 2.4],\n",
              "       [6.4, 3.1, 5.5, 1.8],\n",
              "       [6. , 3. , 4.8, 1.8],\n",
              "       [6.9, 3.1, 5.4, 2.1],\n",
              "       [6.7, 3.1, 5.6, 2.4],\n",
              "       [6.9, 3.1, 5.1, 2.3],\n",
              "       [5.8, 2.7, 5.1, 1.9],\n",
              "       [6.8, 3.2, 5.9, 2.3],\n",
              "       [6.7, 3.3, 5.7, 2.5],\n",
              "       [6.7, 3. , 5.2, 2.3],\n",
              "       [6.3, 2.5, 5. , 1.9],\n",
              "       [6.5, 3. , 5.2, 2. ],\n",
              "       [6.2, 3.4, 5.4, 2.3],\n",
              "       [5.9, 3. , 5.1, 1.8]])"
            ]
          },
          "metadata": {},
          "execution_count": 98
        }
      ]
    },
    {
      "cell_type": "code",
      "source": [
        "data.target"
      ],
      "metadata": {
        "colab": {
          "base_uri": "https://localhost:8080/"
        },
        "id": "AlwFBU5eMVfu",
        "outputId": "ba20b0ba-e420-42fd-a597-90f29b3f872c"
      },
      "execution_count": 99,
      "outputs": [
        {
          "output_type": "execute_result",
          "data": {
            "text/plain": [
              "array([0, 0, 0, 0, 0, 0, 0, 0, 0, 0, 0, 0, 0, 0, 0, 0, 0, 0, 0, 0, 0, 0,\n",
              "       0, 0, 0, 0, 0, 0, 0, 0, 0, 0, 0, 0, 0, 0, 0, 0, 0, 0, 0, 0, 0, 0,\n",
              "       0, 0, 0, 0, 0, 0, 1, 1, 1, 1, 1, 1, 1, 1, 1, 1, 1, 1, 1, 1, 1, 1,\n",
              "       1, 1, 1, 1, 1, 1, 1, 1, 1, 1, 1, 1, 1, 1, 1, 1, 1, 1, 1, 1, 1, 1,\n",
              "       1, 1, 1, 1, 1, 1, 1, 1, 1, 1, 1, 1, 2, 2, 2, 2, 2, 2, 2, 2, 2, 2,\n",
              "       2, 2, 2, 2, 2, 2, 2, 2, 2, 2, 2, 2, 2, 2, 2, 2, 2, 2, 2, 2, 2, 2,\n",
              "       2, 2, 2, 2, 2, 2, 2, 2, 2, 2, 2, 2, 2, 2, 2, 2, 2, 2])"
            ]
          },
          "metadata": {},
          "execution_count": 99
        }
      ]
    },
    {
      "cell_type": "code",
      "source": [
        "X_train, X_test, y_train, y_test = train_test_split(data.data, data.target, test_size=0.3)"
      ],
      "metadata": {
        "id": "qlxDdwkVMOW2"
      },
      "execution_count": 100,
      "outputs": []
    },
    {
      "cell_type": "code",
      "source": [
        "X_train.shape, X_test.shape"
      ],
      "metadata": {
        "colab": {
          "base_uri": "https://localhost:8080/"
        },
        "id": "HqBIdQ_bIpH-",
        "outputId": "5a8f6964-138e-467f-9ed9-058c3c739700"
      },
      "execution_count": 101,
      "outputs": [
        {
          "output_type": "execute_result",
          "data": {
            "text/plain": [
              "((105, 4), (45, 4))"
            ]
          },
          "metadata": {},
          "execution_count": 101
        }
      ]
    },
    {
      "cell_type": "code",
      "source": [
        "y_train.shape, y_test.shape"
      ],
      "metadata": {
        "colab": {
          "base_uri": "https://localhost:8080/"
        },
        "id": "KcXDHsUXI3EO",
        "outputId": "a0f4a583-7ca8-44bd-8417-23471734d47a"
      },
      "execution_count": 102,
      "outputs": [
        {
          "output_type": "execute_result",
          "data": {
            "text/plain": [
              "((105,), (45,))"
            ]
          },
          "metadata": {},
          "execution_count": 102
        }
      ]
    },
    {
      "cell_type": "markdown",
      "source": [
        "Bước 3: Khai báo cấu trúc ANN"
      ],
      "metadata": {
        "id": "Kx1YW_SCSciE"
      }
    },
    {
      "cell_type": "code",
      "source": [
        "# Build the model.\n",
        "model = Sequential([\n",
        "  Dense(16, activation='relu', input_shape=(4,)),\n",
        "  Dense(16, activation='relu'),\n",
        "  Dense(16, activation='relu'),\n",
        "  Dense(16, activation='relu'),\n",
        "  Dense(16, activation='relu'),\n",
        "  Dense(3, activation='softmax'),\n",
        "])"
      ],
      "metadata": {
        "id": "aHNHBzAWJCJn"
      },
      "execution_count": 125,
      "outputs": []
    },
    {
      "cell_type": "code",
      "source": [
        "model.summary()"
      ],
      "metadata": {
        "colab": {
          "base_uri": "https://localhost:8080/"
        },
        "id": "WowtqhpVKIwr",
        "outputId": "f0167f30-ba40-49e5-c9c6-e7dc5a6051d7"
      },
      "execution_count": 111,
      "outputs": [
        {
          "output_type": "stream",
          "name": "stdout",
          "text": [
            "Model: \"sequential_8\"\n",
            "_________________________________________________________________\n",
            " Layer (type)                Output Shape              Param #   \n",
            "=================================================================\n",
            " dense_48 (Dense)            (None, 24)                120       \n",
            "                                                                 \n",
            " dense_49 (Dense)            (None, 24)                600       \n",
            "                                                                 \n",
            " dense_50 (Dense)            (None, 24)                600       \n",
            "                                                                 \n",
            " dense_51 (Dense)            (None, 24)                600       \n",
            "                                                                 \n",
            " dense_52 (Dense)            (None, 24)                600       \n",
            "                                                                 \n",
            " dense_53 (Dense)            (None, 3)                 75        \n",
            "                                                                 \n",
            "=================================================================\n",
            "Total params: 2,595\n",
            "Trainable params: 2,595\n",
            "Non-trainable params: 0\n",
            "_________________________________________________________________\n"
          ]
        }
      ]
    },
    {
      "cell_type": "markdown",
      "source": [
        "Bước 4: Compile the model and Train ANN"
      ],
      "metadata": {
        "id": "e8Q6PpDqShH7"
      }
    },
    {
      "cell_type": "code",
      "source": [
        "# Compile the model \n",
        "model.compile(\n",
        "    optimizer='adam',\n",
        "    loss='categorical_crossentropy', \n",
        "    metrics=['accuracy'],\n",
        ")"
      ],
      "metadata": {
        "id": "kb5SX108KK7a"
      },
      "execution_count": 126,
      "outputs": []
    },
    {
      "cell_type": "code",
      "source": [
        "history=model.fit(\n",
        "    X_train, \n",
        "    to_categorical(y_train),\n",
        "    epochs=120,\n",
        "    batch_size=32\n",
        ")"
      ],
      "metadata": {
        "colab": {
          "base_uri": "https://localhost:8080/"
        },
        "id": "9md3muJHLexb",
        "outputId": "5cdfcdff-526f-4415-85b6-3e7943eb4772"
      },
      "execution_count": 127,
      "outputs": [
        {
          "output_type": "stream",
          "name": "stdout",
          "text": [
            "Epoch 1/120\n",
            "4/4 [==============================] - 0s 3ms/step - loss: 1.4685 - accuracy: 0.3333\n",
            "Epoch 2/120\n",
            "4/4 [==============================] - 0s 2ms/step - loss: 1.2915 - accuracy: 0.4571\n",
            "Epoch 3/120\n",
            "4/4 [==============================] - 0s 2ms/step - loss: 1.1939 - accuracy: 0.3619\n",
            "Epoch 4/120\n",
            "4/4 [==============================] - 0s 2ms/step - loss: 1.1440 - accuracy: 0.3619\n",
            "Epoch 5/120\n",
            "4/4 [==============================] - 0s 2ms/step - loss: 1.1213 - accuracy: 0.3619\n",
            "Epoch 6/120\n",
            "4/4 [==============================] - 0s 2ms/step - loss: 1.1159 - accuracy: 0.3619\n",
            "Epoch 7/120\n",
            "4/4 [==============================] - 0s 3ms/step - loss: 1.1067 - accuracy: 0.3619\n",
            "Epoch 8/120\n",
            "4/4 [==============================] - 0s 2ms/step - loss: 1.0919 - accuracy: 0.3619\n",
            "Epoch 9/120\n",
            "4/4 [==============================] - 0s 2ms/step - loss: 1.0746 - accuracy: 0.6095\n",
            "Epoch 10/120\n",
            "4/4 [==============================] - 0s 4ms/step - loss: 1.0650 - accuracy: 0.6952\n",
            "Epoch 11/120\n",
            "4/4 [==============================] - 0s 2ms/step - loss: 1.0593 - accuracy: 0.6952\n",
            "Epoch 12/120\n",
            "4/4 [==============================] - 0s 2ms/step - loss: 1.0541 - accuracy: 0.6952\n",
            "Epoch 13/120\n",
            "4/4 [==============================] - 0s 2ms/step - loss: 1.0460 - accuracy: 0.6952\n",
            "Epoch 14/120\n",
            "4/4 [==============================] - 0s 2ms/step - loss: 1.0381 - accuracy: 0.6952\n",
            "Epoch 15/120\n",
            "4/4 [==============================] - 0s 2ms/step - loss: 1.0300 - accuracy: 0.6952\n",
            "Epoch 16/120\n",
            "4/4 [==============================] - 0s 3ms/step - loss: 1.0227 - accuracy: 0.6952\n",
            "Epoch 17/120\n",
            "4/4 [==============================] - 0s 2ms/step - loss: 1.0116 - accuracy: 0.6952\n",
            "Epoch 18/120\n",
            "4/4 [==============================] - 0s 2ms/step - loss: 1.0001 - accuracy: 0.6952\n",
            "Epoch 19/120\n",
            "4/4 [==============================] - 0s 2ms/step - loss: 0.9893 - accuracy: 0.6952\n",
            "Epoch 20/120\n",
            "4/4 [==============================] - 0s 2ms/step - loss: 0.9752 - accuracy: 0.6952\n",
            "Epoch 21/120\n",
            "4/4 [==============================] - 0s 3ms/step - loss: 0.9607 - accuracy: 0.6952\n",
            "Epoch 22/120\n",
            "4/4 [==============================] - 0s 3ms/step - loss: 0.9422 - accuracy: 0.6952\n",
            "Epoch 23/120\n",
            "4/4 [==============================] - 0s 3ms/step - loss: 0.9144 - accuracy: 0.6952\n",
            "Epoch 24/120\n",
            "4/4 [==============================] - 0s 2ms/step - loss: 0.8897 - accuracy: 0.6952\n",
            "Epoch 25/120\n",
            "4/4 [==============================] - 0s 2ms/step - loss: 0.8562 - accuracy: 0.6952\n",
            "Epoch 26/120\n",
            "4/4 [==============================] - 0s 2ms/step - loss: 0.8291 - accuracy: 0.6952\n",
            "Epoch 27/120\n",
            "4/4 [==============================] - 0s 2ms/step - loss: 0.7988 - accuracy: 0.6952\n",
            "Epoch 28/120\n",
            "4/4 [==============================] - 0s 3ms/step - loss: 0.7659 - accuracy: 0.6952\n",
            "Epoch 29/120\n",
            "4/4 [==============================] - 0s 4ms/step - loss: 0.7321 - accuracy: 0.6952\n",
            "Epoch 30/120\n",
            "4/4 [==============================] - 0s 2ms/step - loss: 0.7052 - accuracy: 0.6952\n",
            "Epoch 31/120\n",
            "4/4 [==============================] - 0s 3ms/step - loss: 0.6785 - accuracy: 0.6952\n",
            "Epoch 32/120\n",
            "4/4 [==============================] - 0s 3ms/step - loss: 0.6549 - accuracy: 0.6952\n",
            "Epoch 33/120\n",
            "4/4 [==============================] - 0s 2ms/step - loss: 0.6351 - accuracy: 0.6857\n",
            "Epoch 34/120\n",
            "4/4 [==============================] - 0s 2ms/step - loss: 0.6178 - accuracy: 0.6857\n",
            "Epoch 35/120\n",
            "4/4 [==============================] - 0s 2ms/step - loss: 0.6012 - accuracy: 0.6952\n",
            "Epoch 36/120\n",
            "4/4 [==============================] - 0s 2ms/step - loss: 0.5857 - accuracy: 0.6952\n",
            "Epoch 37/120\n",
            "4/4 [==============================] - 0s 3ms/step - loss: 0.5724 - accuracy: 0.6952\n",
            "Epoch 38/120\n",
            "4/4 [==============================] - 0s 3ms/step - loss: 0.5569 - accuracy: 0.6952\n",
            "Epoch 39/120\n",
            "4/4 [==============================] - 0s 3ms/step - loss: 0.5426 - accuracy: 0.6952\n",
            "Epoch 40/120\n",
            "4/4 [==============================] - 0s 2ms/step - loss: 0.5286 - accuracy: 0.6952\n",
            "Epoch 41/120\n",
            "4/4 [==============================] - 0s 3ms/step - loss: 0.5163 - accuracy: 0.6952\n",
            "Epoch 42/120\n",
            "4/4 [==============================] - 0s 3ms/step - loss: 0.5010 - accuracy: 0.6952\n",
            "Epoch 43/120\n",
            "4/4 [==============================] - 0s 3ms/step - loss: 0.4879 - accuracy: 0.7143\n",
            "Epoch 44/120\n",
            "4/4 [==============================] - 0s 2ms/step - loss: 0.4749 - accuracy: 0.8095\n",
            "Epoch 45/120\n",
            "4/4 [==============================] - 0s 2ms/step - loss: 0.4607 - accuracy: 0.8857\n",
            "Epoch 46/120\n",
            "4/4 [==============================] - 0s 2ms/step - loss: 0.4476 - accuracy: 0.8952\n",
            "Epoch 47/120\n",
            "4/4 [==============================] - 0s 2ms/step - loss: 0.4347 - accuracy: 0.8762\n",
            "Epoch 48/120\n",
            "4/4 [==============================] - 0s 2ms/step - loss: 0.4278 - accuracy: 0.9238\n",
            "Epoch 49/120\n",
            "4/4 [==============================] - 0s 2ms/step - loss: 0.4055 - accuracy: 0.9619\n",
            "Epoch 50/120\n",
            "4/4 [==============================] - 0s 3ms/step - loss: 0.3926 - accuracy: 0.9333\n",
            "Epoch 51/120\n",
            "4/4 [==============================] - 0s 2ms/step - loss: 0.3785 - accuracy: 0.9619\n",
            "Epoch 52/120\n",
            "4/4 [==============================] - 0s 2ms/step - loss: 0.3613 - accuracy: 0.9333\n",
            "Epoch 53/120\n",
            "4/4 [==============================] - 0s 2ms/step - loss: 0.3446 - accuracy: 0.9524\n",
            "Epoch 54/120\n",
            "4/4 [==============================] - 0s 2ms/step - loss: 0.3332 - accuracy: 0.9810\n",
            "Epoch 55/120\n",
            "4/4 [==============================] - 0s 2ms/step - loss: 0.3184 - accuracy: 0.9714\n",
            "Epoch 56/120\n",
            "4/4 [==============================] - 0s 2ms/step - loss: 0.3088 - accuracy: 0.9714\n",
            "Epoch 57/120\n",
            "4/4 [==============================] - 0s 2ms/step - loss: 0.2861 - accuracy: 0.9714\n",
            "Epoch 58/120\n",
            "4/4 [==============================] - 0s 2ms/step - loss: 0.2889 - accuracy: 0.9333\n",
            "Epoch 59/120\n",
            "4/4 [==============================] - 0s 2ms/step - loss: 0.2667 - accuracy: 0.9619\n",
            "Epoch 60/120\n",
            "4/4 [==============================] - 0s 3ms/step - loss: 0.2620 - accuracy: 0.9619\n",
            "Epoch 61/120\n",
            "4/4 [==============================] - 0s 2ms/step - loss: 0.2471 - accuracy: 0.9524\n",
            "Epoch 62/120\n",
            "4/4 [==============================] - 0s 2ms/step - loss: 0.2384 - accuracy: 0.9619\n",
            "Epoch 63/120\n",
            "4/4 [==============================] - 0s 2ms/step - loss: 0.2374 - accuracy: 0.9619\n",
            "Epoch 64/120\n",
            "4/4 [==============================] - 0s 2ms/step - loss: 0.2092 - accuracy: 0.9714\n",
            "Epoch 65/120\n",
            "4/4 [==============================] - 0s 2ms/step - loss: 0.2043 - accuracy: 0.9714\n",
            "Epoch 66/120\n",
            "4/4 [==============================] - 0s 2ms/step - loss: 0.1907 - accuracy: 0.9714\n",
            "Epoch 67/120\n",
            "4/4 [==============================] - 0s 2ms/step - loss: 0.1812 - accuracy: 0.9810\n",
            "Epoch 68/120\n",
            "4/4 [==============================] - 0s 2ms/step - loss: 0.1766 - accuracy: 0.9810\n",
            "Epoch 69/120\n",
            "4/4 [==============================] - 0s 2ms/step - loss: 0.1841 - accuracy: 0.9524\n",
            "Epoch 70/120\n",
            "4/4 [==============================] - 0s 2ms/step - loss: 0.1853 - accuracy: 0.9714\n",
            "Epoch 71/120\n",
            "4/4 [==============================] - 0s 2ms/step - loss: 0.1587 - accuracy: 0.9714\n",
            "Epoch 72/120\n",
            "4/4 [==============================] - 0s 2ms/step - loss: 0.1564 - accuracy: 0.9524\n",
            "Epoch 73/120\n",
            "4/4 [==============================] - 0s 3ms/step - loss: 0.1715 - accuracy: 0.9524\n",
            "Epoch 74/120\n",
            "4/4 [==============================] - 0s 4ms/step - loss: 0.1325 - accuracy: 0.9714\n",
            "Epoch 75/120\n",
            "4/4 [==============================] - 0s 3ms/step - loss: 0.1573 - accuracy: 0.9429\n",
            "Epoch 76/120\n",
            "4/4 [==============================] - 0s 2ms/step - loss: 0.1366 - accuracy: 0.9810\n",
            "Epoch 77/120\n",
            "4/4 [==============================] - 0s 2ms/step - loss: 0.1276 - accuracy: 0.9810\n",
            "Epoch 78/120\n",
            "4/4 [==============================] - 0s 2ms/step - loss: 0.1208 - accuracy: 0.9714\n",
            "Epoch 79/120\n",
            "4/4 [==============================] - 0s 2ms/step - loss: 0.1170 - accuracy: 0.9714\n",
            "Epoch 80/120\n",
            "4/4 [==============================] - 0s 2ms/step - loss: 0.1151 - accuracy: 0.9810\n",
            "Epoch 81/120\n",
            "4/4 [==============================] - 0s 2ms/step - loss: 0.1089 - accuracy: 0.9810\n",
            "Epoch 82/120\n",
            "4/4 [==============================] - 0s 2ms/step - loss: 0.1174 - accuracy: 0.9524\n",
            "Epoch 83/120\n",
            "4/4 [==============================] - 0s 2ms/step - loss: 0.1029 - accuracy: 0.9905\n",
            "Epoch 84/120\n",
            "4/4 [==============================] - 0s 2ms/step - loss: 0.1020 - accuracy: 0.9810\n",
            "Epoch 85/120\n",
            "4/4 [==============================] - 0s 3ms/step - loss: 0.1073 - accuracy: 0.9619\n",
            "Epoch 86/120\n",
            "4/4 [==============================] - 0s 2ms/step - loss: 0.0921 - accuracy: 0.9810\n",
            "Epoch 87/120\n",
            "4/4 [==============================] - 0s 3ms/step - loss: 0.1003 - accuracy: 0.9810\n",
            "Epoch 88/120\n",
            "4/4 [==============================] - 0s 3ms/step - loss: 0.0908 - accuracy: 0.9810\n",
            "Epoch 89/120\n",
            "4/4 [==============================] - 0s 2ms/step - loss: 0.0850 - accuracy: 0.9905\n",
            "Epoch 90/120\n",
            "4/4 [==============================] - 0s 2ms/step - loss: 0.0956 - accuracy: 0.9810\n",
            "Epoch 91/120\n",
            "4/4 [==============================] - 0s 2ms/step - loss: 0.0878 - accuracy: 0.9619\n",
            "Epoch 92/120\n",
            "4/4 [==============================] - 0s 2ms/step - loss: 0.0972 - accuracy: 0.9619\n",
            "Epoch 93/120\n",
            "4/4 [==============================] - 0s 2ms/step - loss: 0.0911 - accuracy: 0.9810\n",
            "Epoch 94/120\n",
            "4/4 [==============================] - 0s 2ms/step - loss: 0.0840 - accuracy: 0.9810\n",
            "Epoch 95/120\n",
            "4/4 [==============================] - 0s 2ms/step - loss: 0.0808 - accuracy: 0.9619\n",
            "Epoch 96/120\n",
            "4/4 [==============================] - 0s 2ms/step - loss: 0.1057 - accuracy: 0.9619\n",
            "Epoch 97/120\n",
            "4/4 [==============================] - 0s 2ms/step - loss: 0.0866 - accuracy: 0.9714\n",
            "Epoch 98/120\n",
            "4/4 [==============================] - 0s 4ms/step - loss: 0.0879 - accuracy: 0.9810\n",
            "Epoch 99/120\n",
            "4/4 [==============================] - 0s 3ms/step - loss: 0.0892 - accuracy: 0.9810\n",
            "Epoch 100/120\n",
            "4/4 [==============================] - 0s 2ms/step - loss: 0.0860 - accuracy: 0.9810\n",
            "Epoch 101/120\n",
            "4/4 [==============================] - 0s 2ms/step - loss: 0.0712 - accuracy: 0.9810\n",
            "Epoch 102/120\n",
            "4/4 [==============================] - 0s 3ms/step - loss: 0.0678 - accuracy: 0.9905\n",
            "Epoch 103/120\n",
            "4/4 [==============================] - 0s 3ms/step - loss: 0.0703 - accuracy: 0.9905\n",
            "Epoch 104/120\n",
            "4/4 [==============================] - 0s 3ms/step - loss: 0.0737 - accuracy: 0.9810\n",
            "Epoch 105/120\n",
            "4/4 [==============================] - 0s 3ms/step - loss: 0.0638 - accuracy: 0.9810\n",
            "Epoch 106/120\n",
            "4/4 [==============================] - 0s 2ms/step - loss: 0.0902 - accuracy: 0.9524\n",
            "Epoch 107/120\n",
            "4/4 [==============================] - 0s 2ms/step - loss: 0.0581 - accuracy: 0.9905\n",
            "Epoch 108/120\n",
            "4/4 [==============================] - 0s 3ms/step - loss: 0.0835 - accuracy: 0.9714\n",
            "Epoch 109/120\n",
            "4/4 [==============================] - 0s 2ms/step - loss: 0.0780 - accuracy: 0.9619\n",
            "Epoch 110/120\n",
            "4/4 [==============================] - 0s 3ms/step - loss: 0.0810 - accuracy: 0.9524\n",
            "Epoch 111/120\n",
            "4/4 [==============================] - 0s 2ms/step - loss: 0.0704 - accuracy: 0.9905\n",
            "Epoch 112/120\n",
            "4/4 [==============================] - 0s 3ms/step - loss: 0.0643 - accuracy: 0.9714\n",
            "Epoch 113/120\n",
            "4/4 [==============================] - 0s 2ms/step - loss: 0.0681 - accuracy: 0.9619\n",
            "Epoch 114/120\n",
            "4/4 [==============================] - 0s 3ms/step - loss: 0.0563 - accuracy: 0.9905\n",
            "Epoch 115/120\n",
            "4/4 [==============================] - 0s 4ms/step - loss: 0.0572 - accuracy: 0.9905\n",
            "Epoch 116/120\n",
            "4/4 [==============================] - 0s 2ms/step - loss: 0.0562 - accuracy: 0.9905\n",
            "Epoch 117/120\n",
            "4/4 [==============================] - 0s 3ms/step - loss: 0.0552 - accuracy: 0.9905\n",
            "Epoch 118/120\n",
            "4/4 [==============================] - 0s 2ms/step - loss: 0.0554 - accuracy: 0.9905\n",
            "Epoch 119/120\n",
            "4/4 [==============================] - 0s 2ms/step - loss: 0.0511 - accuracy: 0.9905\n",
            "Epoch 120/120\n",
            "4/4 [==============================] - 0s 2ms/step - loss: 0.0598 - accuracy: 0.9810\n"
          ]
        }
      ]
    },
    {
      "cell_type": "code",
      "source": [
        "print(history.history.keys())"
      ],
      "metadata": {
        "colab": {
          "base_uri": "https://localhost:8080/"
        },
        "id": "dlqiWhDxJP6X",
        "outputId": "9aa6b030-1a4e-48ac-d658-26d30c663481"
      },
      "execution_count": 120,
      "outputs": [
        {
          "output_type": "stream",
          "name": "stdout",
          "text": [
            "dict_keys(['loss', 'accuracy'])\n"
          ]
        }
      ]
    },
    {
      "cell_type": "code",
      "source": [
        "plt.plot(history.history['accuracy'])\n",
        "plt.title('model accuracy')\n",
        "plt.ylabel('accuracy')\n",
        "plt.xlabel('epoch')\n",
        "plt.legend(['train', 'test'], loc='upper left')\n",
        "plt.show()"
      ],
      "metadata": {
        "colab": {
          "base_uri": "https://localhost:8080/",
          "height": 295
        },
        "id": "SMcap0FpN4Ho",
        "outputId": "62f74009-e8f7-4916-e2f6-e8a1cb4ca7aa"
      },
      "execution_count": 121,
      "outputs": [
        {
          "output_type": "display_data",
          "data": {
            "text/plain": [
              "<Figure size 432x288 with 1 Axes>"
            ],
            "image/png": "[encoded data removed]"
          },
          "metadata": {
            "needs_background": "light"
          }
        }
      ]
    },
    {
      "cell_type": "code",
      "source": [
        "plt.plot(history.history['loss'])\n",
        "plt.title('model loss')\n",
        "plt.ylabel('loss')\n",
        "plt.xlabel('epoch')\n",
        "plt.legend(['train', 'test'], loc='upper left')\n",
        "plt.show()"
      ],
      "metadata": {
        "colab": {
          "base_uri": "https://localhost:8080/",
          "height": 295
        },
        "id": "Du_LUPfoN77a",
        "outputId": "351c7f28-1aae-49e4-bdc0-cbdd0ecf690e"
      },
      "execution_count": 122,
      "outputs": [
        {
          "output_type": "display_data",
          "data": {
            "text/plain": [
              "<Figure size 432x288 with 1 Axes>"
            ],
            "image/png": "[encoded data removed]"
          },
          "metadata": {
            "needs_background": "light"
          }
        }
      ]
    },
    {
      "cell_type": "code",
      "source": [
        "# độ chính xác hàm loss.\n",
        "model.evaluate(\n",
        "    X_test,\n",
        "    to_categorical(y_test)\n",
        ")"
      ],
      "metadata": {
        "colab": {
          "base_uri": "https://localhost:8080/"
        },
        "id": "OBFIMF9ETZsw",
        "outputId": "177a4a1b-e313-41bd-bc71-be7b40f96dcf"
      },
      "execution_count": 123,
      "outputs": [
        {
          "output_type": "stream",
          "name": "stdout",
          "text": [
            "2/2 [==============================] - 0s 3ms/step - loss: 0.1945 - accuracy: 0.9556\n"
          ]
        },
        {
          "output_type": "execute_result",
          "data": {
            "text/plain": [
              "[0.19454528391361237, 0.9555555582046509]"
            ]
          },
          "metadata": {},
          "execution_count": 123
        }
      ]
    },
    {
      "cell_type": "code",
      "source": [
        "# Predict on the first 5 test images.\n",
        "predictions = model.predict([(2,3,4,5)])\n",
        "\n",
        "# Print our model's predictions.\n",
        "print('Hoa này thuộc lớp số: ', np.argmax(predictions, axis=1)) "
      ],
      "metadata": {
        "colab": {
          "base_uri": "https://localhost:8080/"
        },
        "id": "q5BeIHBdQBGS",
        "outputId": "2eb859da-66f8-4db7-a651-86b685a8e8d4"
      },
      "execution_count": 124,
      "outputs": [
        {
          "output_type": "stream",
          "name": "stdout",
          "text": [
            "1/1 [==============================] - 0s 59ms/step\n",
            "Hoa này thuộc lớp số:  [2]\n"
          ]
        }
      ]
    },
    {
      "cell_type": "markdown",
      "source": [
        "# Save model "
      ],
      "metadata": {
        "id": "wKg1uyQPSqMb"
      }
    },
    {
      "cell_type": "code",
      "source": [
        "import keras\n",
        "model.save('/content/drive/MyDrive/Colab Notebooks/model.gk')"
      ],
      "metadata": {
        "id": "myUIbf1lQmM7"
      },
      "execution_count": 89,
      "outputs": []
    },
    {
      "cell_type": "code",
      "source": [],
      "metadata": {
        "id": "mxDV-njPSw70"
      },
      "execution_count": null,
      "outputs": []
    },
    {
      "cell_type": "code",
      "source": [],
      "metadata": {
        "id": "E7fJ7yM9R-Tu"
      },
      "execution_count": null,
      "outputs": []
    }
  ]
}