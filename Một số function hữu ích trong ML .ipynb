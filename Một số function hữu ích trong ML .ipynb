{
 "cells": [
  {
   "cell_type": "code",
   "execution_count": null,
   "id": "46a51068",
   "metadata": {},
   "outputs": [],
   "source": [
    "# Function to print null values in all columns (Chức năng in giá trị null trong tất cả các cột)\n",
    "def nulls(df):\n",
    "    return (100*round(df.isnull().sum()/len(df),4).sort_values(ascending=False))\n",
    "def getvif(df):\n",
    "    if 'const' in list(df.columns):\n",
    "        df1=df.drop('const', axis=1) \n",
    "    else:\n",
    "        df1 = df.copy()\n",
    "    vif=pd.DataFrame()\n",
    "    vif['Features'] = df1.columns\n",
    "    vif['VIF'] = [variance_inflation_factor(df1.values, i) for i in range(df1.shape[1])]\n",
    "    vif['VIF'] = round(vif.VIF,2)\n",
    "    vif = vif.sort_values(by = 'VIF', ascending = False)\n",
    "    return vif"
   ]
  }
 ],
 "metadata": {
  "kernelspec": {
   "display_name": "Python 3 (ipykernel)",
   "language": "python",
   "name": "python3"
  },
  "language_info": {
   "codemirror_mode": {
    "name": "ipython",
    "version": 3
   },
   "file_extension": ".py",
   "mimetype": "text/x-python",
   "name": "python",
   "nbconvert_exporter": "python",
   "pygments_lexer": "ipython3",
   "version": "3.9.12"
  }
 },
 "nbformat": 4,
 "nbformat_minor": 5
}
