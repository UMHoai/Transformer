{
 "cells": [
  {
   "cell_type": "code",
   "execution_count": 1,
   "metadata": {},
   "outputs": [],
   "source": [
    "import numpy as np \n",
    "import matplotlib.pyplot as plt\n",
    "from scipy.spatial.distance import cdist"
   ]
  },
  {
   "cell_type": "code",
   "execution_count": 2,
   "metadata": {},
   "outputs": [],
   "source": [
    "means = [[2, 2], [4, 2]]\n",
    "cov = [[.3, .2], [.2, .3]]\n",
    "N = 10\n",
    "X0 = np.random.multivariate_normal(means[0], cov, N).T\n",
    "X1 = np.random.multivariate_normal(means[1], cov, N).T\n",
    "\n",
    "X = np.concatenate((X0, X1), axis = 1)\n",
    "y = np.concatenate((np.ones((1, N)), -1*np.ones((1, N))), axis = 1)\n",
    "# Xbar \n",
    "X = np.concatenate((np.ones((1, 2*N)), X), axis = 0)"
   ]
  },
  {
   "cell_type": "code",
   "execution_count": 3,
   "metadata": {},
   "outputs": [
    {
     "data": {
      "text/plain": [
       "array([[1.        , 1.        , 1.        , 1.        , 1.        ,\n",
       "        1.        , 1.        , 1.        , 1.        , 1.        ,\n",
       "        1.        , 1.        , 1.        , 1.        , 1.        ,\n",
       "        1.        , 1.        , 1.        , 1.        , 1.        ],\n",
       "       [2.36922357, 1.79685366, 2.62403321, 1.47419195, 0.88426604,\n",
       "        2.12113926, 2.2476692 , 1.96854695, 1.63084652, 1.48326168,\n",
       "        4.19938548, 4.28944654, 4.23823874, 3.6308137 , 3.68479018,\n",
       "        3.29136345, 3.92001433, 2.81567931, 4.35329667, 4.49703316],\n",
       "       [2.80814383, 1.847992  , 2.37448731, 1.4864744 , 1.22959089,\n",
       "        1.71466867, 2.02516349, 2.39191963, 1.93229867, 2.37675646,\n",
       "        2.48837091, 2.13984637, 2.84179517, 2.60155427, 2.62000988,\n",
       "        1.66159132, 2.50236342, 1.37266552, 2.62408608, 2.5540556 ]])"
      ]
     },
     "execution_count": 3,
     "metadata": {},
     "output_type": "execute_result"
    }
   ],
   "source": [
    "X # tương ứng nhãn (1) , x1 mảng chứa (2.36922357, ...), x2 mảng chứa (2.80814383, ...)"
   ]
  },
  {
   "cell_type": "code",
   "execution_count": 4,
   "metadata": {},
   "outputs": [],
   "source": [
    "# hàm dấu\n",
    "def h(w, x):    \n",
    "    return np.sign(np.dot(w.T, x))\n",
    "\n",
    "# phát điểm bị lỗi lấy giá trị hàm sign h(w, X) so với nhãn y\n",
    "def has_converged(X, y, w):\n",
    "    \n",
    "    return np.array_equal(h(w, X), y) #True if h(w, X) == y else False\n",
    "\n",
    "# tìm ra điểm w sao; tham số w.. X y là tập dữ liệu mẫu \n",
    "def perceptron(X, y, w_init):\n",
    "    # w random ngẫu nhiên\n",
    "    w = [w_init]\n",
    "    # N cho bằng 20; cột \n",
    "    N = X.shape[1]\n",
    "    # danh sách các điểm bị sai\n",
    "    mis_points = []\n",
    "    # khi nào sai thì out\n",
    "    while True:\n",
    "        # mix data ; lấy ngẫy nhiên trong số các điểm.\n",
    "        mix_id = np.random.permutation(N)\n",
    "        for i in range(N):\n",
    "            # (xi yi) tọa độ của điểm với thộc tính x1, x2 \n",
    "            xi = X[:, mix_id[i]].reshape(3, 1)\n",
    "            yi = y[0, mix_id[i]]\n",
    "            # hàm dấu h mà khác với nhãn -> điểm lỗi \n",
    "            if h(w[-1], xi)[0] != yi:\n",
    "                # lỗi thì thêm vào miss_point\n",
    "                mis_points.append(mix_id[i])\n",
    "                # câu lệnh cập nhật w (w[-1] phần tử cuối cùng trong ds)\n",
    "                w_new = w[-1] + yi*xi \n",
    "                w.append(w_new)\n",
    "        # nếu đúng thì thoát\n",
    "        if has_converged(X, y, w[-1]):\n",
    "            break\n",
    "    return (w, mis_points) "
   ]
  },
  {
   "cell_type": "code",
   "execution_count": 5,
   "metadata": {},
   "outputs": [
    {
     "name": "stdout",
     "output_type": "stream",
     "text": [
      "[19, 3, 1]\n",
      "[array([[ 1.23540627],\n",
      "       [-0.91466312],\n",
      "       [ 1.24501565]]), array([[ 0.23540627],\n",
      "       [-5.41169628],\n",
      "       [-1.30903995]]), array([[ 1.23540627],\n",
      "       [-3.93750433],\n",
      "       [ 0.17743444]]), array([[ 2.23540627],\n",
      "       [-2.14065066],\n",
      "       [ 2.02542644]])]\n",
      "4\n"
     ]
    }
   ],
   "source": [
    "d = X.shape[0]\n",
    "# khởi tạo w ban đầu\n",
    "w_init = np.random.randn(d, 1)\n",
    "# gọi hàm dữ liệu mẫu và danh sách w khởi tạo. Trả về w và m số điểm bị lỗi \n",
    "(w, m) = perceptron(X, y, w_init)\n",
    "print(m)\n",
    "print(w)\n",
    "print(len(w))"
   ]
  },
  {
   "cell_type": "code",
   "execution_count": 6,
   "metadata": {},
   "outputs": [],
   "source": [
    "def draw_line(w):\n",
    "    w0, w1, w2 = w[0], w[1], w[2]\n",
    "    if w2 != 0:\n",
    "        x11, x12 = -100, 100\n",
    "        return plt.plot([x11, x12], [-(w1*x11 + w0)/w2, -(w1*x12 + w0)/w2], 'k')\n",
    "    else:\n",
    "        x10 = -w0/w1\n",
    "        return plt.plot([x10, x10], [-100, 100], 'k')"
   ]
  },
  {
   "cell_type": "code",
   "execution_count": 7,
   "metadata": {},
   "outputs": [
    {
     "name": "stderr",
     "output_type": "stream",
     "text": [
      "MovieWriter imagemagick unavailable; using Pillow instead.\n"
     ]
    },
    {
     "data": {
      "image/png": "[encoded data removed]",
      "text/plain": [
       "<Figure size 360x360 with 1 Axes>"
      ]
     },
     "metadata": {},
     "output_type": "display_data"
    }
   ],
   "source": [
    "## Visualization\n",
    "import matplotlib.animation as animation\n",
    "from matplotlib.animation import FuncAnimation \n",
    "def viz_alg_1d_2(w):\n",
    "    it = len(w)    \n",
    "    fig, ax = plt.subplots(figsize=(5, 5))  \n",
    "    \n",
    "    def update(i):\n",
    "        ani = plt.cla()\n",
    "        #points\n",
    "        ani = plt.plot(X0[0, :], X0[1, :], 'b^', markersize = 8, alpha = .8)\n",
    "        ani = plt.plot(X1[0, :], X1[1, :], 'ro', markersize = 8, alpha = .8)\n",
    "        ani = plt.axis([0 , 6, -2, 4])\n",
    "        i2 =  i if i < it else it-1\n",
    "        ani = draw_line(w[i2])\n",
    "        if i < it-1:\n",
    "            # draw one  misclassified point\n",
    "            circle = plt.Circle((X[1, m[i]], X[2, m[i]]), 0.15, color='k', fill = False)\n",
    "            ax.add_artist(circle)\n",
    "        # hide axis \n",
    "        cur_axes = plt.gca()\n",
    "        cur_axes.axes.get_xaxis().set_ticks([])\n",
    "        cur_axes.axes.get_yaxis().set_ticks([])\n",
    "\n",
    "        label = 'PLA: iter %d/%d' %(i2, it-1)\n",
    "        ax.set_xlabel(label)\n",
    "        return ani, ax \n",
    "        \n",
    "    anim = FuncAnimation(fig, update, frames=np.arange(0, it + 2), interval=1000)\n",
    "    # save \n",
    "    anim.save('pla_vis.gif', dpi = 100, writer = 'imagemagick')\n",
    "    plt.show()\n",
    "    \n",
    "viz_alg_1d_2(w)"
   ]
  },
  {
   "cell_type": "code",
   "execution_count": 8,
   "metadata": {},
   "outputs": [
    {
     "name": "stderr",
     "output_type": "stream",
     "text": [
      "MovieWriter imagemagick unavailable; using Pillow instead.\n"
     ]
    },
    {
     "name": "stdout",
     "output_type": "stream",
     "text": [
      "[7, 10, 0, 18, 3, 6, 14, 9, 7, 17, 0, 19, 3, 2, 12, 6, 11, 7]\n",
      "[array([[-0.3135082 ],\n",
      "       [ 0.77101174],\n",
      "       [-1.86809065]]), array([[ 0.6864918 ],\n",
      "       [ 2.63478794],\n",
      "       [-0.27092518]]), array([[-0.3135082 ],\n",
      "       [-1.83924575],\n",
      "       [-2.67499938]]), array([[ 0.6864918 ],\n",
      "       [ 0.38171482],\n",
      "       [-0.4792021 ]]), array([[-0.3135082 ],\n",
      "       [-3.5561285 ],\n",
      "       [-2.03950157]]), array([[ 0.6864918 ],\n",
      "       [-1.52911433],\n",
      "       [-0.56939716]]), array([[1.6864918 ],\n",
      "       [0.7000917 ],\n",
      "       [1.15985741]]), array([[ 0.6864918 ],\n",
      "       [-4.04483948],\n",
      "       [-1.51642863]]), array([[ 1.6864918 ],\n",
      "       [-1.67292211],\n",
      "       [ 0.85952495]]), array([[2.6864918 ],\n",
      "       [0.19085409],\n",
      "       [2.45669043]]), array([[ 1.6864918 ],\n",
      "       [-3.31990027],\n",
      "       [ 0.33788932]]), array([[ 2.6864918],\n",
      "       [-1.0989397],\n",
      "       [ 2.5336866]]), array([[ 1.6864918 ],\n",
      "       [-4.9776611 ],\n",
      "       [ 0.41241776]]), array([[ 2.6864918 ],\n",
      "       [-2.95064692],\n",
      "       [ 1.88252217]]), array([[3.6864918 ],\n",
      "       [0.1342913 ],\n",
      "       [4.59101953]]), array([[ 2.6864918 ],\n",
      "       [-4.08793204],\n",
      "       [ 2.4744209 ]]), array([[ 3.6864918 ],\n",
      "       [-1.858726  ],\n",
      "       [ 4.20367547]]), array([[ 2.6864918 ],\n",
      "       [-5.9515385 ],\n",
      "       [ 2.55305842]]), array([[ 3.6864918 ],\n",
      "       [-4.08776229],\n",
      "       [ 4.1502239 ]])]\n",
      "19\n"
     ]
    },
    {
     "data": {
      "image/png": "[encoded data removed]",
      "text/plain": [
       "<Figure size 360x360 with 1 Axes>"
      ]
     },
     "metadata": {},
     "output_type": "display_data"
    }
   ],
   "source": [
    "# -*- coding: utf-8 -*-\n",
    "\"\"\"\n",
    "Created on Fri Nov  9 14:33:36 2018\n",
    "\n",
    "@author: DELL\n",
    "\"\"\"\n",
    "\n",
    "\n",
    "# generate data\n",
    "# list of points \n",
    "import numpy as np \n",
    "import matplotlib.pyplot as plt\n",
    "from scipy.spatial.distance import cdist\n",
    "np.random.seed(2)\n",
    "\n",
    "means = [[2, 2], [4, 2]]\n",
    "cov = [[.3, .2], [.2, .3]]\n",
    "N = 10\n",
    "X0 = np.random.multivariate_normal(means[0], cov, N).T\n",
    "X1 = np.random.multivariate_normal(means[1], cov, N).T\n",
    "\n",
    "X = np.concatenate((X0, X1), axis = 1)\n",
    "y = np.concatenate((np.ones((1, N)), -1*np.ones((1, N))), axis = 1)\n",
    "# Xbar \n",
    "X = np.concatenate((np.ones((1, 2*N)), X), axis = 0)\n",
    "\n",
    "\n",
    "def h(w, x):    \n",
    "    return np.sign(np.dot(w.T, x))\n",
    "\n",
    "def has_converged(X, y, w):\n",
    "    \n",
    "    return np.array_equal(h(w, X), y) #True if h(w, X) == y else False\n",
    "\n",
    "def perceptron(X, y, w_init):\n",
    "    w = [w_init]\n",
    "    N = X.shape[1]\n",
    "    mis_points = []\n",
    "    while True:\n",
    "        # mix data \n",
    "        mix_id = np.random.permutation(N)\n",
    "        for i in range(N):\n",
    "            xi = X[:, mix_id[i]].reshape(3, 1)\n",
    "            yi = y[0, mix_id[i]]\n",
    "            if h(w[-1], xi)[0] != yi:\n",
    "                mis_points.append(mix_id[i])\n",
    "                w_new = w[-1] + yi*xi \n",
    "\n",
    "                w.append(w_new)\n",
    "                \n",
    "        if has_converged(X, y, w[-1]):\n",
    "            break\n",
    "    return (w, mis_points)\n",
    "\n",
    "d = X.shape[0]\n",
    "w_init = np.random.randn(d, 1)\n",
    "(w, m) = perceptron(X, y, w_init)\n",
    "print(m)\n",
    "print(w)\n",
    "print(len(w))\n",
    "\n",
    "def draw_line(w):\n",
    "    w0, w1, w2 = w[0], w[1], w[2]\n",
    "    if w2 != 0:\n",
    "        x11, x12 = -100, 100\n",
    "        return plt.plot([x11, x12], [-(w1*x11 + w0)/w2, -(w1*x12 + w0)/w2], 'k')\n",
    "    else:\n",
    "        x10 = -w0/w1\n",
    "        return plt.plot([x10, x10], [-100, 100], 'k')\n",
    "\n",
    "\n",
    "## Visualization\n",
    "import matplotlib.animation as animation\n",
    "from matplotlib.animation import FuncAnimation \n",
    "def viz_alg_1d_2(w):\n",
    "    it = len(w)    \n",
    "    fig, ax = plt.subplots(figsize=(5, 5))  \n",
    "    \n",
    "    def update(i):\n",
    "        ani = plt.cla()\n",
    "        #points\n",
    "        ani = plt.plot(X0[0, :], X0[1, :], 'b^', markersize = 8, alpha = .8)\n",
    "        ani = plt.plot(X1[0, :], X1[1, :], 'ro', markersize = 8, alpha = .8)\n",
    "        ani = plt.axis([0 , 6, -2, 4])\n",
    "        i2 =  i if i < it else it-1\n",
    "        ani = draw_line(w[i2])\n",
    "        if i < it-1:\n",
    "            # draw one  misclassified point\n",
    "            circle = plt.Circle((X[1, m[i]], X[2, m[i]]), 0.15, color='k', fill = False)\n",
    "            ax.add_artist(circle)\n",
    "        # hide axis \n",
    "        cur_axes = plt.gca()\n",
    "        cur_axes.axes.get_xaxis().set_ticks([])\n",
    "        cur_axes.axes.get_yaxis().set_ticks([])\n",
    "\n",
    "        label = 'PLA: iter %d/%d' %(i2, it-1)\n",
    "        ax.set_xlabel(label)\n",
    "        return ani, ax \n",
    "        \n",
    "    anim = FuncAnimation(fig, update, frames=np.arange(0, it + 2), interval=1000)\n",
    "    # save \n",
    "    anim.save('pla_vis.gif', dpi = 100, writer = 'imagemagick')\n",
    "    plt.show()\n",
    "    \n",
    "viz_alg_1d_2(w)"
   ]
  },
  {
   "cell_type": "code",
   "execution_count": null,
   "metadata": {},
   "outputs": [],
   "source": []
  }
 ],
 "metadata": {
  "kernelspec": {
   "display_name": "Python 3 (ipykernel)",
   "language": "python",
   "name": "python3"
  },
  "language_info": {
   "codemirror_mode": {
    "name": "ipython",
    "version": 3
   },
   "file_extension": ".py",
   "mimetype": "text/x-python",
   "name": "python",
   "nbconvert_exporter": "python",
   "pygments_lexer": "ipython3",
   "version": "3.9.12"
  }
 },
 "nbformat": 4,
 "nbformat_minor": 4
}
